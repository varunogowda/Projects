{
 "cells": [
  {
   "cell_type": "code",
   "execution_count": 172,
   "id": "9b85dec1",
   "metadata": {},
   "outputs": [
    {
     "data": {
      "text/plain": [
       "<bound method NDFrame.head of    sepal_length  sepal_width  petal_length  petal_width     species\n",
       "0           5.1          3.5           1.4          0.2      setosa\n",
       "1           4.9          3.0           1.4          0.2      setosa\n",
       "2           4.7          3.2           1.3          0.2      setosa\n",
       "3           4.6          3.1           1.5          0.2      setosa\n",
       "4           5.0          3.6           1.4          0.2      setosa\n",
       "5           7.0          3.2           4.7          1.4  versicolor\n",
       "6           6.4          3.2           4.5          1.5  versicolor\n",
       "7           6.9          3.1           4.9          1.5  versicolor\n",
       "8           5.5          2.3           4.0          1.3  versicolor\n",
       "9           6.5          2.8           4.6          1.5  versicolor>"
      ]
     },
     "execution_count": 172,
     "metadata": {},
     "output_type": "execute_result"
    }
   ],
   "source": [
    "import pandas as pd\n",
    "import numpy as np\n",
    "from collections import Counter\n",
    "\n",
    "file=\"/Users/varun/Desktop/MAchine learning/Assignments/Assignment_6/assignment6.xlsx\"\n",
    "df= pd.read_excel(file)\n",
    "df.head"
   ]
  },
  {
   "cell_type": "code",
   "execution_count": 173,
   "id": "f2c6952d",
   "metadata": {},
   "outputs": [
    {
     "name": "stdout",
     "output_type": "stream",
     "text": [
      "sepal_length\n",
      "sepal_width\n",
      "petal_length\n",
      "petal_width\n",
      "species\n"
     ]
    }
   ],
   "source": [
    "for col in df.columns:\n",
    "    print(col)"
   ]
  },
  {
   "cell_type": "code",
   "execution_count": 174,
   "id": "6f30d034",
   "metadata": {},
   "outputs": [],
   "source": [
    "rf=df.copy()\n",
    "data=rf[['sepal_length','sepal_width','petal_length','petal_width']]\n",
    "data=np.array(data)\n",
    "data_spec=df.species.map({'setosa': 1, 'versicolor':2})\n",
    "data_spec=np.array(data_spec)\n",
    "data_test=np.array([[8.2,2.6,3.2,1.8]]) "
   ]
  },
  {
   "cell_type": "code",
   "execution_count": 175,
   "id": "0794fda1",
   "metadata": {},
   "outputs": [],
   "source": [
    "def KNN(k, x):\n",
    "    predicted_species=[]\n",
    "    for i in range(len(x)):\n",
    "        euc_dist=[]\n",
    "        for j in range(len(data)):\n",
    "            dis=np.linalg.norm(data[j]-x[i])\n",
    "            euc_dist.append([dis,j])\n",
    "        euc_dist.sort()\n",
    "        euc_dist=euc_dist[0:k]\n",
    "        a=[]\n",
    "        for euc_dist,j in euc_dist:\n",
    "            a.append(data_spec[j])\n",
    "        res=Counter(a)\n",
    "        res=res.most_common(1)[0][0]\n",
    "        predicted_species.append(res)\n",
    "    return predicted_species                "
   ]
  },
  {
   "cell_type": "markdown",
   "id": "efd272cd",
   "metadata": {},
   "source": [
    "# when K = 7 , predicted species = Versicolor"
   ]
  },
  {
   "cell_type": "code",
   "execution_count": 176,
   "id": "8d40ac1f",
   "metadata": {},
   "outputs": [
    {
     "name": "stdout",
     "output_type": "stream",
     "text": [
      "Given Species is Versicolor\n"
     ]
    }
   ],
   "source": [
    "Predicted_species=KNN(7,data_test)\n",
    "Predicted_species\n",
    "if(Predicted_species==1):\n",
    "    print(\"Given Species is Setosa\")\n",
    "else:\n",
    "    print(\"Given Species is Versicolor\")\n",
    "    "
   ]
  },
  {
   "cell_type": "markdown",
   "id": "2127d6d0",
   "metadata": {},
   "source": [
    "# when K = 5, predicted species = Versicolor"
   ]
  },
  {
   "cell_type": "code",
   "execution_count": 177,
   "id": "6accbdc3",
   "metadata": {},
   "outputs": [
    {
     "name": "stdout",
     "output_type": "stream",
     "text": [
      "Given Species is Versicolor\n"
     ]
    }
   ],
   "source": [
    "Predicted_species=KNN(5,data_test)\n",
    "Predicted_species\n",
    "if(Predicted_species==1):\n",
    "    print(\"Given Species is Setosa\")\n",
    "else:\n",
    "    print(\"Given Species is Versicolor\")"
   ]
  },
  {
   "cell_type": "markdown",
   "id": "70c0aeda",
   "metadata": {},
   "source": [
    "# when K = 3, predicted species = Versicolor"
   ]
  },
  {
   "cell_type": "code",
   "execution_count": 178,
   "id": "15c786da",
   "metadata": {},
   "outputs": [
    {
     "name": "stdout",
     "output_type": "stream",
     "text": [
      "Given Species is Versicolor\n"
     ]
    }
   ],
   "source": [
    "Predicted_species=KNN(3,data_test)\n",
    "Predicted_species\n",
    "if(Predicted_species==1):\n",
    "    print(\"Given Species is Setosa\")\n",
    "else:\n",
    "    print(\"Given Species is Versicolor\")"
   ]
  }
 ],
 "metadata": {
  "kernelspec": {
   "display_name": "Python 3 (ipykernel)",
   "language": "python",
   "name": "python3"
  },
  "language_info": {
   "codemirror_mode": {
    "name": "ipython",
    "version": 3
   },
   "file_extension": ".py",
   "mimetype": "text/x-python",
   "name": "python",
   "nbconvert_exporter": "python",
   "pygments_lexer": "ipython3",
   "version": "3.9.7"
  }
 },
 "nbformat": 4,
 "nbformat_minor": 5
}
