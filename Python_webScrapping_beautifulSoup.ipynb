{
 "cells": [
  {
   "cell_type": "markdown",
   "id": "7bb57753",
   "metadata": {},
   "source": [
    "# Simple Crawler\n",
    "#Your task in this exercise is to \"crawl\" all the pages of http://quotes.toscrape.com."
   ]
  },
  {
   "cell_type": "code",
   "execution_count": 1,
   "id": "9058658f",
   "metadata": {},
   "outputs": [],
   "source": [
    "from bs4 import BeautifulSoup\n",
    "import re\n",
    "import requests\n",
    "import pandas as pd\n",
    "import numpy as np\n",
    "from urllib.request import urlopen\n",
    "from html.parser import HTMLParser"
   ]
  },
  {
   "cell_type": "code",
   "execution_count": 2,
   "id": "a2ec994c",
   "metadata": {},
   "outputs": [],
   "source": [
    "url = \"https://quotes.toscrape.com/\"\n",
    "content= requests.get(url).text\n",
    "content= re.sub(\"\\s+\",\" \", content)\n",
    "soup= BeautifulSoup(content,\"html.parser\")\n",
    "#content"
   ]
  },
  {
   "cell_type": "code",
   "execution_count": 3,
   "id": "2ab176e7",
   "metadata": {},
   "outputs": [
    {
     "name": "stdout",
     "output_type": "stream",
     "text": [
      "<class 'list'>\n"
     ]
    }
   ],
   "source": [
    "links=[]\n",
    "for tag in soup.find_all('a'):\n",
    "    if tag.get(\"style\", None) == \"font-size: 28px\":\n",
    "        links.append((tag.get(\"href\", None)))\n",
    "    elif tag.get(\"style\", None) == \"font-size: 26px\":\n",
    "        links.append((tag.get(\"href\", None)))\n",
    "    elif tag.get(\"style\", None) == \"font-size: 24px\":\n",
    "        links.append((tag.get(\"href\", None)))\n",
    "    elif tag.get(\"style\", None) == \"font-size: 22px\":\n",
    "        links.append((tag.get(\"href\", None)))\n",
    "    elif tag.get(\"style\", None) == \"font-size: 14px\":\n",
    "        links.append((tag.get(\"href\", None)))\n",
    "    elif tag.get(\"style\", None) == \"font-size: 10px\":\n",
    "        links.append((tag.get(\"href\", None)))\n",
    "    elif tag.get(\"style\", None) == \"font-size: 8px\":\n",
    "        links.append((tag.get(\"href\", None)))\n",
    "    elif tag.get(\"style\", None) == \"font-size: 6px\":\n",
    "        links.append((tag.get(\"href\", None)))\n",
    "print(type(links))\n",
    "\n",
    "\n"
   ]
  },
  {
   "cell_type": "code",
   "execution_count": 4,
   "id": "c386496a",
   "metadata": {},
   "outputs": [],
   "source": [
    "url_list=[url]\n",
    "for i in range(len(links)):\n",
    "    url_list.append(\"https://quotes.toscrape.com\"+links[i])\n",
    "#url_list"
   ]
  },
  {
   "cell_type": "code",
   "execution_count": 5,
   "id": "9954ac30",
   "metadata": {},
   "outputs": [
    {
     "name": "stdout",
     "output_type": "stream",
     "text": [
      "https://quotes.toscrape.com/\n",
      "https://quotes.toscrape.com/tag/love/\n",
      "https://quotes.toscrape.com/tag/inspirational/\n",
      "https://quotes.toscrape.com/tag/life/\n",
      "https://quotes.toscrape.com/tag/humor/\n",
      "https://quotes.toscrape.com/tag/books/\n",
      "https://quotes.toscrape.com/tag/reading/\n",
      "https://quotes.toscrape.com/tag/friendship/\n",
      "https://quotes.toscrape.com/tag/friends/\n",
      "https://quotes.toscrape.com/tag/truth/\n",
      "https://quotes.toscrape.com/tag/simile/\n"
     ]
    }
   ],
   "source": [
    "for url in url_list:\n",
    "    print(url)"
   ]
  },
  {
   "cell_type": "markdown",
   "id": "2166c620",
   "metadata": {},
   "source": [
    "# Getting responses from all the URL"
   ]
  },
  {
   "cell_type": "code",
   "execution_count": 6,
   "id": "f8d7bebd",
   "metadata": {},
   "outputs": [
    {
     "name": "stdout",
     "output_type": "stream",
     "text": [
      "the response for the https://quotes.toscrape.com/ is:  <Response [200]>\n",
      "the response for the https://quotes.toscrape.com/tag/love/ is:  <Response [200]>\n",
      "the response for the https://quotes.toscrape.com/tag/inspirational/ is:  <Response [200]>\n",
      "the response for the https://quotes.toscrape.com/tag/life/ is:  <Response [200]>\n",
      "the response for the https://quotes.toscrape.com/tag/humor/ is:  <Response [200]>\n",
      "the response for the https://quotes.toscrape.com/tag/books/ is:  <Response [200]>\n",
      "the response for the https://quotes.toscrape.com/tag/reading/ is:  <Response [200]>\n",
      "the response for the https://quotes.toscrape.com/tag/friendship/ is:  <Response [200]>\n",
      "the response for the https://quotes.toscrape.com/tag/friends/ is:  <Response [200]>\n",
      "the response for the https://quotes.toscrape.com/tag/truth/ is:  <Response [200]>\n",
      "the response for the https://quotes.toscrape.com/tag/simile/ is:  <Response [200]>\n"
     ]
    }
   ],
   "source": [
    "import requests\n",
    "from bs4 import BeautifulSoup\n",
    "import re\n",
    "def check_module():\n",
    "    s = requests.Session()\n",
    "    for url in url_list:\n",
    "        form=s.get(url)\n",
    "#form = s.get(url_list)\n",
    "        print(\"the response for the \"+ url + \" is: \",form)\n",
    "    \n",
    "    \n",
    "check_module()"
   ]
  },
  {
   "cell_type": "markdown",
   "id": "29a86f31",
   "metadata": {},
   "source": [
    "# Getting all the Quotes from each Url"
   ]
  },
  {
   "cell_type": "code",
   "execution_count": 8,
   "id": "a00f953d",
   "metadata": {},
   "outputs": [
    {
     "name": "stdout",
     "output_type": "stream",
     "text": [
      "['“The world as we have created it is a process of our thinking. It cannot be changed without changing our thinking.”', '“It is our choices, Harry, that show what we truly are, far more than our abilities.”', '“There are only two ways to live your life. One is as though nothing is a miracle. The other is as though everything is a miracle.”', '“The person, be it gentleman or lady, who has not pleasure in a good novel, must be intolerably stupid.”', \"“Imperfection is beauty, madness is genius and it's better to be absolutely ridiculous than absolutely boring.”\", '“Try not to become a man of success. Rather become a man of value.”', '“It is better to be hated for what you are than to be loved for what you are not.”', \"“I have not failed. I've just found 10,000 ways that won't work.”\", \"“A woman is like a tea bag; you never know how strong it is until it's in hot water.”\", '“A day without sunshine is like, you know, night.”', '→', '\\ninspirational\\n', '\\nhumor\\n', '\\nreading\\n', '\\nfriends\\n', '\\nsimile\\n']\n",
      "['“It is better to be hated for what you are than to be loved for what you are not.”', \"“This life is what you make it. No matter what, you're going to mess up sometimes, it's a universal truth. But the good part is you get to decide how you're going to mess it up. Girls will be your friends - they'll act like it anyway. But just remember, some come, some go. The ones that stay with you through everything - they're your true best friends. Don't let go of them. Also remember, sisters make the best friends in the world. As for lovers, well, they'll come and go too. And baby, I hate to say it, most of them - actually pretty much all of them are going to break your heart, but you can't give up because if you give up, you'll never find your soulmate. You'll never find that half who makes you whole and that goes for everything. Just because you fail once, doesn't mean you're gonna fail at everything. Keep trying, hold on, and always, always, always believe in yourself, because if you don't, then who will, sweetie? So keep your head high, keep your chin up, and most importantly, keep smiling, because life's a beautiful thing and there's so much to smile about.”\", \"“You may not be her first, her last, or her only. She loved before she may love again. But if she loves you now, what else matters? She's not perfect—you aren't either, and the two of you may never be perfect together but if she can make you laugh, cause you to think twice, and admit to being human and making mistakes, hold onto her and give her the most you can. She may not be thinking about you every second of the day, but she will give you a part of her that she knows you can break—her heart. So don't hurt her, don't change her, don't analyze and don't expect more than she can give. Smile when she makes you happy, let her know when she makes you mad, and miss her when she's not there.”\", \"“The opposite of love is not hate, it's indifference. The opposite of art is not ugliness, it's indifference. The opposite of faith is not heresy, it's indifference. And the opposite of life is not death, it's indifference.”\", '“It is not a lack of love, but a lack of friendship that makes unhappy marriages.”', '“I love you without knowing how, or when, or from where. I love you simply, without problems or pride: I love you in this way because I do not know any other way of loving but this, in which there is no I or you, so intimate that your hand upon my chest is my hand, so intimate that when I fall asleep your eyes close.”', '“If you can make a woman laugh, you can make her do anything.”', '“The real lover is the man who can thrill you by kissing your forehead or smiling into your eyes or just staring into space.”', '“Love does not begin and end the way we seem to think it does. Love is a battle, love is a war; love is a growing up.”', '“There is nothing I would not do for those who are really my friends. I have no notion of loving people by halves, it is not my nature.”', '→', '\\ninspirational\\n', '\\nhumor\\n', '\\nreading\\n', '\\nfriends\\n', '\\nsimile\\n']\n",
      "['“There are only two ways to live your life. One is as though nothing is a miracle. The other is as though everything is a miracle.”', \"“Imperfection is beauty, madness is genius and it's better to be absolutely ridiculous than absolutely boring.”\", \"“I have not failed. I've just found 10,000 ways that won't work.”\", \"“This life is what you make it. No matter what, you're going to mess up sometimes, it's a universal truth. But the good part is you get to decide how you're going to mess it up. Girls will be your friends - they'll act like it anyway. But just remember, some come, some go. The ones that stay with you through everything - they're your true best friends. Don't let go of them. Also remember, sisters make the best friends in the world. As for lovers, well, they'll come and go too. And baby, I hate to say it, most of them - actually pretty much all of them are going to break your heart, but you can't give up because if you give up, you'll never find your soulmate. You'll never find that half who makes you whole and that goes for everything. Just because you fail once, doesn't mean you're gonna fail at everything. Keep trying, hold on, and always, always, always believe in yourself, because if you don't, then who will, sweetie? So keep your head high, keep your chin up, and most importantly, keep smiling, because life's a beautiful thing and there's so much to smile about.”\", \"“The opposite of love is not hate, it's indifference. The opposite of art is not ugliness, it's indifference. The opposite of faith is not heresy, it's indifference. And the opposite of life is not death, it's indifference.”\", '“To the well-organized mind, death is but the next great adventure.”', '“It is never too late to be what you might have been.”', '“You can never get a cup of tea large enough or a book long enough to suit me.”', '“Only in the darkness can you see the stars.”', '“When one door of happiness closes, another opens; but often we look so long at the closed door that we do not see the one which has been opened for us.”', '→', '\\ninspirational\\n', '\\nhumor\\n', '\\nreading\\n', '\\nfriends\\n', '\\nsimile\\n']\n",
      "['“There are only two ways to live your life. One is as though nothing is a miracle. The other is as though everything is a miracle.”', '“It is better to be hated for what you are than to be loved for what you are not.”', \"“This life is what you make it. No matter what, you're going to mess up sometimes, it's a universal truth. But the good part is you get to decide how you're going to mess it up. Girls will be your friends - they'll act like it anyway. But just remember, some come, some go. The ones that stay with you through everything - they're your true best friends. Don't let go of them. Also remember, sisters make the best friends in the world. As for lovers, well, they'll come and go too. And baby, I hate to say it, most of them - actually pretty much all of them are going to break your heart, but you can't give up because if you give up, you'll never find your soulmate. You'll never find that half who makes you whole and that goes for everything. Just because you fail once, doesn't mean you're gonna fail at everything. Keep trying, hold on, and always, always, always believe in yourself, because if you don't, then who will, sweetie? So keep your head high, keep your chin up, and most importantly, keep smiling, because life's a beautiful thing and there's so much to smile about.”\", '“I may not have gone where I intended to go, but I think I have ended up where I needed to be.”', '“Good friends, good books, and a sleepy conscience: this is the ideal life.”', '“Life is what happens to us while we are making other plans.”', '“Today you are You, that is truer than true. There is no one alive who is Youer than You.”', '“Life is like riding a bicycle. To keep your balance, you must keep moving.”', \"“Life isn't about finding yourself. Life is about creating yourself.”\", '“Finish each day and be done with it. You have done what you could. Some blunders and absurdities no doubt crept in; forget them as soon as you can. Tomorrow is a new day. You shall begin it serenely and with too high a spirit to be encumbered with your old nonsense.”', '→', '\\ninspirational\\n', '\\nhumor\\n', '\\nreading\\n', '\\nfriends\\n', '\\nsimile\\n']\n",
      "['“The person, be it gentleman or lady, who has not pleasure in a good novel, must be intolerably stupid.”', '“A day without sunshine is like, you know, night.”', '“Anyone who thinks sitting in church can make you a Christian must also think that sitting in a garage can make you a car.”', '“Beauty is in the eye of the beholder and it may be necessary from time to time to give a stupid or misinformed beholder a black eye.”', \"“All you need is love. But a little chocolate now and then doesn't hurt.”\", \"“Remember, we're madly in love, so it's all right to kiss me anytime you feel like it.”\", '“Some people never go crazy. What truly horrible lives they must lead.”', '“The trouble with having an open mind, of course, is that people will insist on coming along and trying to put things in it.”', '“Think left and think right and think low and think high. Oh, the thinks you can think up if only you try!”', '“The reason I talk to myself is because I’m the only one whose answers I accept.”', '→', '\\ninspirational\\n', '\\nhumor\\n', '\\nreading\\n', '\\nfriends\\n', '\\nsimile\\n']\n",
      "['“The person, be it gentleman or lady, who has not pleasure in a good novel, must be intolerably stupid.”', '“Good friends, good books, and a sleepy conscience: this is the ideal life.”', '“I have always imagined that Paradise will be a kind of library.”', '“You can never get a cup of tea large enough or a book long enough to suit me.”', '“If you only read the books that everyone else is reading, you can only think what everyone else is thinking.”', '“There is no friend as loyal as a book.”', \"“What really knocks me out is a book that, when you're all done reading it, you wish the author that wrote it was a terrific friend of yours and you could call him up on the phone whenever you felt like it. That doesn't happen much, though.”\", \"“′Classic′ - a book which people praise and don't read.”\", '“I declare after all there is no enjoyment like reading! How much sooner one tires of any thing than of a book! -- When I have a house of my own, I shall be miserable if I have not an excellent library.”', '“You have to write the book that wants to be written. And if the book will be too difficult for grown-ups, then you write it for children.”', '→', '\\ninspirational\\n', '\\nhumor\\n', '\\nreading\\n', '\\nfriends\\n', '\\nsimile\\n']\n",
      "[\"“The more that you read, the more things you will know. The more that you learn, the more places you'll go.”\", \"“We read to know we're not alone.”\", '“A reader lives a thousand lives before he dies, said Jojen. The man who never reads lives only one.”', '“You can never get a cup of tea large enough or a book long enough to suit me.”', \"“What really knocks me out is a book that, when you're all done reading it, you wish the author that wrote it was a terrific friend of yours and you could call him up on the phone whenever you felt like it. That doesn't happen much, though.”\", \"“′Classic′ - a book which people praise and don't read.”\", '“I declare after all there is no enjoyment like reading! How much sooner one tires of any thing than of a book! -- When I have a house of my own, I shall be miserable if I have not an excellent library.”', '\\nlove\\n', '\\nlife\\n', '\\nbooks\\n', '\\nfriendship\\n', '\\ntruth\\n', '❤']\n",
      "['“It is not a lack of love, but a lack of friendship that makes unhappy marriages.”', '“Good friends, good books, and a sleepy conscience: this is the ideal life.”', '“The truth is, everyone is going to hurt you. You just got to find the ones worth suffering for.”', '“There is nothing I would not do for those who are really my friends. I have no notion of loving people by halves, it is not my nature.”', '“If I had a flower for every time I thought of you...I could walk through my garden forever.”', '\\nlove\\n', '\\nlife\\n', '\\nbooks\\n', '\\nfriendship\\n', '\\ntruth\\n', '❤']\n",
      "[\"“This life is what you make it. No matter what, you're going to mess up sometimes, it's a universal truth. But the good part is you get to decide how you're going to mess it up. Girls will be your friends - they'll act like it anyway. But just remember, some come, some go. The ones that stay with you through everything - they're your true best friends. Don't let go of them. Also remember, sisters make the best friends in the world. As for lovers, well, they'll come and go too. And baby, I hate to say it, most of them - actually pretty much all of them are going to break your heart, but you can't give up because if you give up, you'll never find your soulmate. You'll never find that half who makes you whole and that goes for everything. Just because you fail once, doesn't mean you're gonna fail at everything. Keep trying, hold on, and always, always, always believe in yourself, because if you don't, then who will, sweetie? So keep your head high, keep your chin up, and most importantly, keep smiling, because life's a beautiful thing and there's so much to smile about.”\", '“It takes a great deal of bravery to stand up to our enemies, but just as much to stand up to our friends.”', '“Good friends, good books, and a sleepy conscience: this is the ideal life.”', '“There is no friend as loyal as a book.”', '\\nlove\\n', '\\nlife\\n', '\\nbooks\\n', '\\nfriendship\\n', '\\ntruth\\n', '❤']\n",
      "['“The reason I talk to myself is because I’m the only one whose answers I accept.”', '“A lie can travel half way around the world while the truth is putting on its shoes.”', '“The truth.\" Dumbledore sighed. \"It is a beautiful and terrible thing, and should therefore be treated with great caution.”', '“Never tell the truth to people who are not worthy of it.”', '\\nlove\\n', '\\nlife\\n', '\\nbooks\\n', '\\nfriendship\\n', '\\ntruth\\n', '❤']\n",
      "['“A day without sunshine is like, you know, night.”', '“Life is like riding a bicycle. To keep your balance, you must keep moving.”', \"“He's like a drug for you, Bella.”\", '\\nlove\\n', '\\nlife\\n', '\\nbooks\\n', '\\nfriendship\\n', '\\ntruth\\n', '❤']\n"
     ]
    }
   ],
   "source": [
    "for url in url_list:\n",
    "    html_content= requests.get(url).text\n",
    "    soup= BeautifulSoup(html_content,\"html.parser\")\n",
    "#print(soup.prettify())\n",
    "    specific_tag= soup.find_all('span')\n",
    "    #print(specific_tag)\n",
    "    a=[]\n",
    "    for item in specific_tag:\n",
    "        a.append(item.text)\n",
    "    quotes = a[::2]\n",
    "    #print(len(quotes))\n",
    "    print(quotes)\n"
   ]
  },
  {
   "cell_type": "markdown",
   "id": "e9f85fc7",
   "metadata": {},
   "source": [
    "# Getting all the names of the Authors"
   ]
  },
  {
   "cell_type": "code",
   "execution_count": 10,
   "id": "68c5bbaa",
   "metadata": {},
   "outputs": [
    {
     "name": "stdout",
     "output_type": "stream",
     "text": [
      "['Albert Einstein', 'J.K. Rowling', 'Albert Einstein', 'Jane Austen', 'Marilyn Monroe', 'Albert Einstein', 'André Gide', 'Thomas A. Edison', 'Eleanor Roosevel', 'Steve Martin', 'love', 'life', 'ks', 'friendship', 'ruth', '❤']\n",
      "['André Gide', 'Marilyn Monroe', 'Bob Marle', 'Elie Wiesel', 'Friedrich Nietzsche', 'Pablo Nerud', 'Marilyn Monroe', 'Marilyn Monroe', 'James Baldwin', 'Jane Austen', 'love', 'life', 'ks', 'friendship', 'ruth', '❤']\n",
      "['Albert Einstein', 'Marilyn Monroe', 'Thomas A. Edison', 'Marilyn Monroe', 'Elie Wiesel', 'J.K. Rowling', 'George Eli', 'C.S. Lewis', 'Martin Luther King Jr.', 'Helen Keller', 'love', 'life', 'ks', 'friendship', 'ruth', '❤']\n",
      "['Albert Einstein', 'André Gide', 'Marilyn Monroe', 'Douglas Adams', 'Mark Twain', 'Allen Saunders', 'Dr. Seuss', 'Albert Einstein', 'George Bernard Shaw', 'Ralph Waldo Emerson', 'love', 'life', 'ks', 'friendship', 'ruth', '❤']\n",
      "['Jane Austen', 'Steve Martin', 'Garrison Keillor', 'Jim Henson', 'Charles M. Schulz', 'Suzanne Collins', 'Charles Bukowski', 'Terry Pratche', 'Dr. Seuss', 'George Carlin', 'love', 'life', 'ks', 'friendship', 'ruth', '❤']\n",
      "['Jane Austen', 'Mark Twain', 'Jorge Luis Borges', 'C.S. Lewis', 'Haruki Murakami', 'Ernest Hemingwa', 'J.D. Salinger', 'Mark Twain', 'Jane Austen', \"Madeleine L'Engle\", 'love', 'life', 'ks', 'friendship', 'ruth', '❤']\n",
      "['Dr. Seuss', 'William Nicholson', 'George R.R. Martin', 'C.S. Lewis', 'J.D. Salinger', 'Mark Twain', 'Jane Austen', 'inspirational', 'humor', 'reading', 'friends', 'simile']\n",
      "['Friedrich Nietzsche', 'Mark Twain', 'Bob Marle', 'Jane Austen', 'Alfred Tennyson', 'inspirational', 'humor', 'reading', 'friends', 'simile']\n",
      "['Marilyn Monroe', 'J.K. Rowling', 'Mark Twain', 'Ernest Hemingwa', 'inspirational', 'humor', 'reading', 'friends', 'simile']\n",
      "['George Carlin', 'Mark Twain', 'J.K. Rowling', 'Mark Twain', 'inspirational', 'humor', 'reading', 'friends', 'simile']\n",
      "['Steve Martin', 'Albert Einstein', 'Stephenie Meyer', 'inspirational', 'humor', 'reading', 'friends', 'simile']\n"
     ]
    }
   ],
   "source": [
    "for url in url_list:\n",
    "    html_content= requests.get(url).text\n",
    "    soup= BeautifulSoup(html_content,\"html.parser\")\n",
    "    specific_tag= soup.find_all('span')\n",
    "    a=[]\n",
    "    for item in specific_tag:\n",
    "        a.append(item.text)\n",
    "    quotes = a[::2]\n",
    "\n",
    "    author= a[1::2]\n",
    "    authors = [item.strip('\\n(about)')for item in author]\n",
    "    authors = [item.strip('y ')for item in authors]\n",
    "    print(authors)"
   ]
  },
  {
   "cell_type": "markdown",
   "id": "767145cf",
   "metadata": {},
   "source": [
    "# Getting all individual Tags from the quotes "
   ]
  },
  {
   "cell_type": "code",
   "execution_count": 11,
   "id": "ef1e0a90",
   "metadata": {},
   "outputs": [
    {
     "name": "stdout",
     "output_type": "stream",
     "text": [
      "['change,deep-thoughts,thinking,world', 'abilities,choices', 'inspirational,life,live,miracle,miracles', 'aliteracy,books,classic,humor', 'be-yourself,inspirational', 'adulthood,success,value', 'life,love', 'edison,failure,inspirational,paraphrased', 'misattributed-eleanor-roosevelt', 'humor,obvious,simile']\n",
      "['life,love', 'friends,heartbreak,inspirational,life,love,sisters', 'love', 'activism,apathy,hate,indifference,inspirational,love,opposite,philosophy', 'friendship,lack-of-friendship,lack-of-love,love,marriage,unhappy-marriage', 'love,poetry', 'girls,love', 'love', 'love', 'friendship,love']\n",
      "['inspirational,life,live,miracle,miracles', 'be-yourself,inspirational', 'edison,failure,inspirational,paraphrased', 'friends,heartbreak,inspirational,life,love,sisters', 'activism,apathy,hate,indifference,inspirational,love,opposite,philosophy', 'death,inspirational', 'inspirational', 'books,inspirational,reading,tea', 'hope,inspirational', 'inspirational']\n",
      "['inspirational,life,live,miracle,miracles', 'life,love', 'friends,heartbreak,inspirational,life,love,sisters', 'life,navigation', 'books,contentment,friends,friendship,life', 'fate,life,misattributed-john-lennon,planning,plans', 'comedy,life,yourself', 'life,simile', 'inspirational,life,yourself', 'life,regrets']\n",
      "['aliteracy,books,classic,humor', 'humor,obvious,simile', 'humor,religion', 'humor', 'chocolate,food,humor', 'humor', 'humor', 'humor,open-mind,thinking', 'humor,philosophy', 'humor,insanity,lies,lying,self-indulgence,truth']\n",
      "['aliteracy,books,classic,humor', 'books,contentment,friends,friendship,life', 'books,library', 'books,inspirational,reading,tea', 'books,thought', 'books,friends,novelist-quotes', 'authors,books,literature,reading,writing', 'books,classic,reading', 'books,library,reading', 'books,children,difficult,grown-ups,write,writers,writing']\n",
      "['learning,reading,seuss', 'misattributed-to-c-s-lewis,reading', 'read,readers,reading,reading-books', 'books,inspirational,reading,tea', 'authors,books,literature,reading,writing', 'books,classic,reading', 'books,library,reading']\n",
      "['friendship,lack-of-friendship,lack-of-love,love,marriage,unhappy-marriage', 'books,contentment,friends,friendship,life', 'friendship', 'friendship,love', 'friendship,love']\n",
      "['friends,heartbreak,inspirational,life,love,sisters', 'courage,friends', 'books,contentment,friends,friendship,life', 'books,friends,novelist-quotes']\n",
      "['humor,insanity,lies,lying,self-indulgence,truth', 'misattributed-mark-twain,truth', 'truth', 'truth']\n",
      "['humor,obvious,simile', 'life,simile', 'drug,romance,simile']\n"
     ]
    }
   ],
   "source": [
    "for url in url_list:\n",
    "    html_content= requests.get(url).text\n",
    "    soup= BeautifulSoup(html_content,\"html.parser\")\n",
    "    #specific_tag= soup.find_all('span')\n",
    "    #a=[]\n",
    "    #for item in specific_tag:\n",
    "    #    a.append(item.text)\n",
    "    #quotes = a[::2]\n",
    "    \n",
    "    #author= a[1::2]\n",
    "    #authors = [item.strip('\\n(about)')for item in author]\n",
    "    #authors = [item.strip('y ')for item in authors]\n",
    "    #print(type(authors))\n",
    "    #print(authors)\n",
    "\n",
    "\n",
    "\n",
    "    tags=[]\n",
    "    for tag in soup.find_all(\"meta\"):\n",
    "        if tag.get(\"itemprop\", None) == \"keywords\":\n",
    "            tags.append((tag.get(\"content\", None)))\n",
    "\n",
    "    print(tags)\n",
    "  "
   ]
  },
  {
   "cell_type": "markdown",
   "id": "dee317b8",
   "metadata": {},
   "source": [
    "# Printing the table for each URL "
   ]
  },
  {
   "cell_type": "code",
   "execution_count": 17,
   "id": "e6d83786",
   "metadata": {},
   "outputs": [
    {
     "name": "stdout",
     "output_type": "stream",
     "text": [
      "                                                Quote            Author  \\\n",
      "1   “The world as we have created it is a process ...   Albert Einstein   \n",
      "2   “It is our choices, Harry, that show what we t...      J.K. Rowling   \n",
      "3   “There are only two ways to live your life. On...   Albert Einstein   \n",
      "4   “The person, be it gentleman or lady, who has ...       Jane Austen   \n",
      "5   “Imperfection is beauty, madness is genius and...    Marilyn Monroe   \n",
      "6   “Try not to become a man of success. Rather be...   Albert Einstein   \n",
      "7   “It is better to be hated for what you are tha...        André Gide   \n",
      "8   “I have not failed. I've just found 10,000 way...  Thomas A. Edison   \n",
      "9   “A woman is like a tea bag; you never know how...  Eleanor Roosevel   \n",
      "10  “A day without sunshine is like, you know, nig...      Steve Martin   \n",
      "\n",
      "                                        Tags  \n",
      "1        change,deep-thoughts,thinking,world  \n",
      "2                          abilities,choices  \n",
      "3   inspirational,life,live,miracle,miracles  \n",
      "4              aliteracy,books,classic,humor  \n",
      "5                  be-yourself,inspirational  \n",
      "6                    adulthood,success,value  \n",
      "7                                  life,love  \n",
      "8   edison,failure,inspirational,paraphrased  \n",
      "9            misattributed-eleanor-roosevelt  \n",
      "10                      humor,obvious,simile  \n",
      "                                                Quote               Author  \\\n",
      "1   “It is better to be hated for what you are tha...           André Gide   \n",
      "2   “This life is what you make it. No matter what...       Marilyn Monroe   \n",
      "3   “You may not be her first, her last, or her on...            Bob Marle   \n",
      "4   “The opposite of love is not hate, it's indiff...          Elie Wiesel   \n",
      "5   “It is not a lack of love, but a lack of frien...  Friedrich Nietzsche   \n",
      "6   “I love you without knowing how, or when, or f...          Pablo Nerud   \n",
      "7   “If you can make a woman laugh, you can make h...       Marilyn Monroe   \n",
      "8   “The real lover is the man who can thrill you ...       Marilyn Monroe   \n",
      "9   “Love does not begin and end the way we seem t...        James Baldwin   \n",
      "10  “There is nothing I would not do for those who...          Jane Austen   \n",
      "\n",
      "                                                 Tags  \n",
      "1                                           life,love  \n",
      "2   friends,heartbreak,inspirational,life,love,sis...  \n",
      "3                                                love  \n",
      "4   activism,apathy,hate,indifference,inspirationa...  \n",
      "5   friendship,lack-of-friendship,lack-of-love,lov...  \n",
      "6                                         love,poetry  \n",
      "7                                          girls,love  \n",
      "8                                                love  \n",
      "9                                                love  \n",
      "10                                    friendship,love  \n",
      "                                                Quote                  Author  \\\n",
      "1   “There are only two ways to live your life. On...         Albert Einstein   \n",
      "2   “Imperfection is beauty, madness is genius and...          Marilyn Monroe   \n",
      "3   “I have not failed. I've just found 10,000 way...        Thomas A. Edison   \n",
      "4   “This life is what you make it. No matter what...          Marilyn Monroe   \n",
      "5   “The opposite of love is not hate, it's indiff...             Elie Wiesel   \n",
      "6   “To the well-organized mind, death is but the ...            J.K. Rowling   \n",
      "7   “It is never too late to be what you might hav...              George Eli   \n",
      "8   “You can never get a cup of tea large enough o...              C.S. Lewis   \n",
      "9       “Only in the darkness can you see the stars.”  Martin Luther King Jr.   \n",
      "10  “When one door of happiness closes, another op...            Helen Keller   \n",
      "\n",
      "                                                 Tags  \n",
      "1            inspirational,life,live,miracle,miracles  \n",
      "2                           be-yourself,inspirational  \n",
      "3            edison,failure,inspirational,paraphrased  \n",
      "4   friends,heartbreak,inspirational,life,love,sis...  \n",
      "5   activism,apathy,hate,indifference,inspirationa...  \n",
      "6                                 death,inspirational  \n",
      "7                                       inspirational  \n",
      "8                     books,inspirational,reading,tea  \n",
      "9                                  hope,inspirational  \n",
      "10                                      inspirational  \n",
      "                                                Quote               Author  \\\n",
      "1   “There are only two ways to live your life. On...      Albert Einstein   \n",
      "2   “It is better to be hated for what you are tha...           André Gide   \n",
      "3   “This life is what you make it. No matter what...       Marilyn Monroe   \n",
      "4   “I may not have gone where I intended to go, b...        Douglas Adams   \n",
      "5   “Good friends, good books, and a sleepy consci...           Mark Twain   \n",
      "6   “Life is what happens to us while we are makin...       Allen Saunders   \n",
      "7   “Today you are You, that is truer than true. T...            Dr. Seuss   \n",
      "8   “Life is like riding a bicycle. To keep your b...      Albert Einstein   \n",
      "9   “Life isn't about finding yourself. Life is ab...  George Bernard Shaw   \n",
      "10  “Finish each day and be done with it. You have...  Ralph Waldo Emerson   \n",
      "\n",
      "                                                 Tags  \n",
      "1            inspirational,life,live,miracle,miracles  \n",
      "2                                           life,love  \n",
      "3   friends,heartbreak,inspirational,life,love,sis...  \n",
      "4                                     life,navigation  \n",
      "5           books,contentment,friends,friendship,life  \n",
      "6   fate,life,misattributed-john-lennon,planning,p...  \n",
      "7                                comedy,life,yourself  \n",
      "8                                         life,simile  \n",
      "9                         inspirational,life,yourself  \n",
      "10                                       life,regrets  \n",
      "                                                Quote             Author  \\\n",
      "1   “The person, be it gentleman or lady, who has ...        Jane Austen   \n",
      "2   “A day without sunshine is like, you know, nig...       Steve Martin   \n",
      "3   “Anyone who thinks sitting in church can make ...   Garrison Keillor   \n",
      "4   “Beauty is in the eye of the beholder and it m...         Jim Henson   \n",
      "5   “All you need is love. But a little chocolate ...  Charles M. Schulz   \n",
      "6   “Remember, we're madly in love, so it's all ri...    Suzanne Collins   \n",
      "7   “Some people never go crazy. What truly horrib...   Charles Bukowski   \n",
      "8   “The trouble with having an open mind, of cour...      Terry Pratche   \n",
      "9   “Think left and think right and think low and ...          Dr. Seuss   \n",
      "10  “The reason I talk to myself is because I’m th...      George Carlin   \n",
      "\n",
      "                                               Tags  \n",
      "1                     aliteracy,books,classic,humor  \n",
      "2                              humor,obvious,simile  \n",
      "3                                    humor,religion  \n",
      "4                                             humor  \n",
      "5                              chocolate,food,humor  \n",
      "6                                             humor  \n",
      "7                                             humor  \n",
      "8                          humor,open-mind,thinking  \n",
      "9                                  humor,philosophy  \n",
      "10  humor,insanity,lies,lying,self-indulgence,truth  \n",
      "                                                Quote             Author  \\\n",
      "1   “The person, be it gentleman or lady, who has ...        Jane Austen   \n",
      "2   “Good friends, good books, and a sleepy consci...         Mark Twain   \n",
      "3   “I have always imagined that Paradise will be ...  Jorge Luis Borges   \n",
      "4   “You can never get a cup of tea large enough o...         C.S. Lewis   \n",
      "5   “If you only read the books that everyone else...    Haruki Murakami   \n",
      "6            “There is no friend as loyal as a book.”    Ernest Hemingwa   \n",
      "7   “What really knocks me out is a book that, whe...      J.D. Salinger   \n",
      "8   “′Classic′ - a book which people praise and do...         Mark Twain   \n",
      "9   “I declare after all there is no enjoyment lik...        Jane Austen   \n",
      "10  “You have to write the book that wants to be w...  Madeleine L'Engle   \n",
      "\n",
      "                                                 Tags  \n",
      "1                       aliteracy,books,classic,humor  \n",
      "2           books,contentment,friends,friendship,life  \n",
      "3                                       books,library  \n",
      "4                     books,inspirational,reading,tea  \n",
      "5                                       books,thought  \n",
      "6                       books,friends,novelist-quotes  \n",
      "7            authors,books,literature,reading,writing  \n",
      "8                               books,classic,reading  \n",
      "9                               books,library,reading  \n",
      "10  books,children,difficult,grown-ups,write,write...  \n",
      "                                               Quote              Author  \\\n",
      "1  “The more that you read, the more things you w...           Dr. Seuss   \n",
      "2                 “We read to know we're not alone.”   William Nicholson   \n",
      "3  “A reader lives a thousand lives before he die...  George R.R. Martin   \n",
      "4  “You can never get a cup of tea large enough o...          C.S. Lewis   \n",
      "5  “What really knocks me out is a book that, whe...       J.D. Salinger   \n",
      "6  “′Classic′ - a book which people praise and do...          Mark Twain   \n",
      "7  “I declare after all there is no enjoyment lik...         Jane Austen   \n",
      "\n",
      "                                       Tags  \n",
      "1                    learning,reading,seuss  \n",
      "2        misattributed-to-c-s-lewis,reading  \n",
      "3        read,readers,reading,reading-books  \n",
      "4           books,inspirational,reading,tea  \n",
      "5  authors,books,literature,reading,writing  \n",
      "6                     books,classic,reading  \n",
      "7                     books,library,reading  \n",
      "                                               Quote               Author  \\\n",
      "1  “It is not a lack of love, but a lack of frien...  Friedrich Nietzsche   \n",
      "2  “Good friends, good books, and a sleepy consci...           Mark Twain   \n",
      "3  “The truth is, everyone is going to hurt you. ...            Bob Marle   \n",
      "4  “There is nothing I would not do for those who...          Jane Austen   \n",
      "5  “If I had a flower for every time I thought of...      Alfred Tennyson   \n",
      "\n",
      "                                                Tags  \n",
      "1  friendship,lack-of-friendship,lack-of-love,lov...  \n",
      "2          books,contentment,friends,friendship,life  \n",
      "3                                         friendship  \n",
      "4                                    friendship,love  \n",
      "5                                    friendship,love  \n",
      "                                               Quote           Author  \\\n",
      "1  “This life is what you make it. No matter what...   Marilyn Monroe   \n",
      "2  “It takes a great deal of bravery to stand up ...     J.K. Rowling   \n",
      "3  “Good friends, good books, and a sleepy consci...       Mark Twain   \n",
      "4           “There is no friend as loyal as a book.”  Ernest Hemingwa   \n",
      "\n",
      "                                                Tags  \n",
      "1  friends,heartbreak,inspirational,life,love,sis...  \n",
      "2                                    courage,friends  \n",
      "3          books,contentment,friends,friendship,life  \n",
      "4                      books,friends,novelist-quotes  \n",
      "                                               Quote         Author  \\\n",
      "1  “The reason I talk to myself is because I’m th...  George Carlin   \n",
      "2  “A lie can travel half way around the world wh...     Mark Twain   \n",
      "3  “The truth.\" Dumbledore sighed. \"It is a beaut...   J.K. Rowling   \n",
      "4  “Never tell the truth to people who are not wo...     Mark Twain   \n",
      "\n",
      "                                              Tags  \n",
      "1  humor,insanity,lies,lying,self-indulgence,truth  \n",
      "2                   misattributed-mark-twain,truth  \n",
      "3                                            truth  \n",
      "4                                            truth  \n",
      "                                               Quote           Author  \\\n",
      "1  “A day without sunshine is like, you know, nig...     Steve Martin   \n",
      "2  “Life is like riding a bicycle. To keep your b...  Albert Einstein   \n",
      "3                 “He's like a drug for you, Bella.”  Stephenie Meyer   \n",
      "\n",
      "                   Tags  \n",
      "1  humor,obvious,simile  \n",
      "2           life,simile  \n",
      "3   drug,romance,simile  \n"
     ]
    }
   ],
   "source": [
    "for url in url_list:\n",
    "    html_content= requests.get(url).text\n",
    "    soup= BeautifulSoup(html_content,\"html.parser\")\n",
    "\n",
    "    specific_tag= soup.find_all('span')\n",
    "    #print(specific_tag)\n",
    "    a=[]\n",
    "    for item in specific_tag:\n",
    "        a.append(item.text)\n",
    "    quotes = a[::2]\n",
    "    #print(type(quotes))\n",
    "    #print(quotes)\n",
    "    author= a[1::2]\n",
    "    authors = [item.strip('\\n(about)')for item in author]\n",
    "    authors = [item.strip('y ')for item in authors]\n",
    "    #print(type(authors))\n",
    "    #print(authors)\n",
    "\n",
    "\n",
    "\n",
    "    tags=[]\n",
    "    for tag in soup.find_all(\"meta\"):\n",
    "        if tag.get(\"itemprop\", None) == \"keywords\":\n",
    "            tags.append((tag.get(\"content\", None)))\n",
    "\n",
    "    #print(tags)\n",
    "  \n",
    "     \n",
    "    df= pd.DataFrame(list(zip(quotes,authors,tags)), columns=['Quote','Author','Tags'])\n",
    "    df.index= np.arange(1, len(df)+1)\n",
    "    print(df)\n",
    "    df.to_csv('/Users/varun/Desktop/table.csv')"
   ]
  },
  {
   "cell_type": "markdown",
   "id": "8af61462",
   "metadata": {},
   "source": [
    "# 2.Descriptive Statistics\n",
    "#1. What is the total count of valid pages in the aforementioned website that you could crawl?"
   ]
  },
  {
   "cell_type": "code",
   "execution_count": 81,
   "id": "60ce58dd",
   "metadata": {},
   "outputs": [
    {
     "name": "stdout",
     "output_type": "stream",
     "text": [
      "0 https://quotes.toscrape.com/\n",
      "1 https://quotes.toscrape.com/tag/love/\n",
      "2 https://quotes.toscrape.com/tag/inspirational/\n",
      "3 https://quotes.toscrape.com/tag/life/\n",
      "4 https://quotes.toscrape.com/tag/humor/\n",
      "5 https://quotes.toscrape.com/tag/books/\n",
      "6 https://quotes.toscrape.com/tag/reading/\n",
      "7 https://quotes.toscrape.com/tag/friendship/\n",
      "8 https://quotes.toscrape.com/tag/friends/\n",
      "9 https://quotes.toscrape.com/tag/truth/\n",
      "10 https://quotes.toscrape.com/tag/simile/\n",
      "the total number of valid pages crawled are:  10   Excluding the given link\n"
     ]
    }
   ],
   "source": [
    "def check_module():\n",
    "    s = requests.Session()\n",
    "    \n",
    "    for index,url in enumerate(url_list):\n",
    "        print(index, url)\n",
    "    print(\"the total number of valid pages crawled are: \",index,\"  Excluding the given link\")\n",
    "        \n",
    "check_module()"
   ]
  },
  {
   "cell_type": "markdown",
   "id": "904ed58c",
   "metadata": {},
   "source": [
    "## Provide a frequency distribution of the number of quotes per author"
   ]
  },
  {
   "cell_type": "code",
   "execution_count": 128,
   "id": "00d5e2c8",
   "metadata": {},
   "outputs": [
    {
     "name": "stdout",
     "output_type": "stream",
     "text": [
      "Author\n",
      "Albert Einstein           7\n",
      "Alfred Tennyson           1\n",
      "Allen Saunders            1\n",
      "André Gide                3\n",
      "Bob Marle                 2\n",
      "C.S. Lewis                3\n",
      "Charles Bukowski          1\n",
      "Charles M. Schulz         1\n",
      "Douglas Adams             1\n",
      "Dr. Seuss                 3\n",
      "Eleanor Roosevel          1\n",
      "Elie Wiesel               2\n",
      "Ernest Hemingwa           2\n",
      "Friedrich Nietzsche       2\n",
      "Garrison Keillor          1\n",
      "George Bernard Shaw       1\n",
      "George Carlin             2\n",
      "George Eli                1\n",
      "George R.R. Martin        1\n",
      "Haruki Murakami           1\n",
      "Helen Keller              1\n",
      "J.D. Salinger             2\n",
      "J.K. Rowling              4\n",
      "James Baldwin             1\n",
      "Jane Austen               7\n",
      "Jim Henson                1\n",
      "Jorge Luis Borges         1\n",
      "Madeleine L'Engle         1\n",
      "Marilyn Monroe            8\n",
      "Mark Twain                8\n",
      "Martin Luther King Jr.    1\n",
      "Pablo Nerud               1\n",
      "Ralph Waldo Emerson       1\n",
      "Stephenie Meyer           1\n",
      "Steve Martin              3\n",
      "Suzanne Collins           1\n",
      "Terry Pratche             1\n",
      "Thomas A. Edison          2\n",
      "William Nicholson         1\n",
      "Name: Quote, dtype: int64\n"
     ]
    }
   ],
   "source": [
    "df=pd.read_csv('/Users/varun/Desktop/table.csv')\n",
    "author_name=df.groupby('Author').count()\n",
    "rf1=author_name['Quote']\n",
    "rf1=author_name['Quote']\n",
    "print(rf1)\n"
   ]
  },
  {
   "cell_type": "markdown",
   "id": "5950237e",
   "metadata": {},
   "source": [
    "# Provide a frequency distribution of the tags "
   ]
  },
  {
   "cell_type": "code",
   "execution_count": 56,
   "id": "297b4035",
   "metadata": {},
   "outputs": [
    {
     "data": {
      "text/html": [
       "<div>\n",
       "<style scoped>\n",
       "    .dataframe tbody tr th:only-of-type {\n",
       "        vertical-align: middle;\n",
       "    }\n",
       "\n",
       "    .dataframe tbody tr th {\n",
       "        vertical-align: top;\n",
       "    }\n",
       "\n",
       "    .dataframe thead th {\n",
       "        text-align: right;\n",
       "    }\n",
       "</style>\n",
       "<table border=\"1\" class=\"dataframe\">\n",
       "  <thead>\n",
       "    <tr style=\"text-align: right;\">\n",
       "      <th></th>\n",
       "      <th>Quote</th>\n",
       "    </tr>\n",
       "    <tr>\n",
       "      <th>Tags</th>\n",
       "      <th></th>\n",
       "    </tr>\n",
       "  </thead>\n",
       "  <tbody>\n",
       "    <tr>\n",
       "      <th>abilities</th>\n",
       "      <td>1</td>\n",
       "    </tr>\n",
       "    <tr>\n",
       "      <th>activism</th>\n",
       "      <td>1</td>\n",
       "    </tr>\n",
       "    <tr>\n",
       "      <th>adulthood</th>\n",
       "      <td>1</td>\n",
       "    </tr>\n",
       "    <tr>\n",
       "      <th>aliteracy</th>\n",
       "      <td>1</td>\n",
       "    </tr>\n",
       "    <tr>\n",
       "      <th>authors</th>\n",
       "      <td>1</td>\n",
       "    </tr>\n",
       "    <tr>\n",
       "      <th>be-yourself</th>\n",
       "      <td>1</td>\n",
       "    </tr>\n",
       "    <tr>\n",
       "      <th>books</th>\n",
       "      <td>1</td>\n",
       "    </tr>\n",
       "    <tr>\n",
       "      <th>change</th>\n",
       "      <td>1</td>\n",
       "    </tr>\n",
       "    <tr>\n",
       "      <th>chocolate</th>\n",
       "      <td>1</td>\n",
       "    </tr>\n",
       "    <tr>\n",
       "      <th>comedy</th>\n",
       "      <td>1</td>\n",
       "    </tr>\n",
       "    <tr>\n",
       "      <th>courage</th>\n",
       "      <td>1</td>\n",
       "    </tr>\n",
       "    <tr>\n",
       "      <th>death</th>\n",
       "      <td>1</td>\n",
       "    </tr>\n",
       "    <tr>\n",
       "      <th>drug</th>\n",
       "      <td>1</td>\n",
       "    </tr>\n",
       "    <tr>\n",
       "      <th>edison</th>\n",
       "      <td>1</td>\n",
       "    </tr>\n",
       "    <tr>\n",
       "      <th>fate</th>\n",
       "      <td>1</td>\n",
       "    </tr>\n",
       "    <tr>\n",
       "      <th>friends</th>\n",
       "      <td>1</td>\n",
       "    </tr>\n",
       "    <tr>\n",
       "      <th>friendship</th>\n",
       "      <td>1</td>\n",
       "    </tr>\n",
       "    <tr>\n",
       "      <th>girls</th>\n",
       "      <td>1</td>\n",
       "    </tr>\n",
       "    <tr>\n",
       "      <th>hope</th>\n",
       "      <td>1</td>\n",
       "    </tr>\n",
       "    <tr>\n",
       "      <th>humor</th>\n",
       "      <td>1</td>\n",
       "    </tr>\n",
       "    <tr>\n",
       "      <th>inspirational</th>\n",
       "      <td>1</td>\n",
       "    </tr>\n",
       "    <tr>\n",
       "      <th>learning</th>\n",
       "      <td>1</td>\n",
       "    </tr>\n",
       "    <tr>\n",
       "      <th>life</th>\n",
       "      <td>1</td>\n",
       "    </tr>\n",
       "    <tr>\n",
       "      <th>love</th>\n",
       "      <td>1</td>\n",
       "    </tr>\n",
       "    <tr>\n",
       "      <th>misattributed-eleanor-roosevelt</th>\n",
       "      <td>1</td>\n",
       "    </tr>\n",
       "    <tr>\n",
       "      <th>misattributed-mark-twain</th>\n",
       "      <td>1</td>\n",
       "    </tr>\n",
       "    <tr>\n",
       "      <th>misattributed-to-c-s-lewis</th>\n",
       "      <td>1</td>\n",
       "    </tr>\n",
       "    <tr>\n",
       "      <th>read</th>\n",
       "      <td>1</td>\n",
       "    </tr>\n",
       "    <tr>\n",
       "      <th>truth</th>\n",
       "      <td>1</td>\n",
       "    </tr>\n",
       "  </tbody>\n",
       "</table>\n",
       "</div>"
      ],
      "text/plain": [
       "                                 Quote\n",
       "Tags                                  \n",
       "abilities                            1\n",
       "activism                             1\n",
       "adulthood                            1\n",
       "aliteracy                            1\n",
       "authors                              1\n",
       "be-yourself                          1\n",
       "books                                1\n",
       "change                               1\n",
       "chocolate                            1\n",
       "comedy                               1\n",
       "courage                              1\n",
       "death                                1\n",
       "drug                                 1\n",
       "edison                               1\n",
       "fate                                 1\n",
       "friends                              1\n",
       "friendship                           1\n",
       "girls                                1\n",
       "hope                                 1\n",
       "humor                                1\n",
       "inspirational                        1\n",
       "learning                             1\n",
       "life                                 1\n",
       "love                                 1\n",
       "misattributed-eleanor-roosevelt      1\n",
       "misattributed-mark-twain             1\n",
       "misattributed-to-c-s-lewis           1\n",
       "read                                 1\n",
       "truth                                1"
      ]
     },
     "execution_count": 56,
     "metadata": {},
     "output_type": "execute_result"
    }
   ],
   "source": [
    "tags\n",
    "tag=[ item.split(',') for item in tags]\n",
    "tag=[item.split(',',1)[0] for item in tags]\n",
    "tag=set(tag)\n",
    "tag=list(tag)\n",
    "\n",
    "\n",
    "df= pd.DataFrame(list(zip(quotes,tag)), columns=['Quote','Tags'])\n",
    "Tag_freq=df.groupby('Tags').count()\n",
    "Tag_freq\n"
   ]
  },
  {
   "cell_type": "markdown",
   "id": "a0eb48a3",
   "metadata": {},
   "source": [
    "# 4. Plot the average length of quotes (no. of words) per author."
   ]
  },
  {
   "cell_type": "code",
   "execution_count": 150,
   "id": "53286cd2",
   "metadata": {},
   "outputs": [
    {
     "name": "stdout",
     "output_type": "stream",
     "text": [
      "[7, 1, 1, 3, 2, 3, 1, 1, 1, 3, 1, 2, 2, 2, 1, 1, 2, 1, 1, 1, 1, 2, 4, 1, 7, 1, 1, 1, 8, 8, 1, 1, 1, 1, 3, 1, 1, 2, 1]\n",
      "[141, 18, 12, 57, 157, 54, 12, 14, 22, 62, 19, 74, 18, 32, 24, 10, 32, 12, 19, 20, 31, 94, 69, 27, 197, 27, 12, 27, 873, 101, 9, 66, 52, 7, 27, 17, 24, 24, 7]\n"
     ]
    }
   ],
   "source": [
    "df['quote_freq']=df['Quote'].str.count(' ') + 1\n",
    "rf=df.copy()\n",
    "rf=rf[['Author','quote_freq']]\n",
    "#rf.groupby(['Quote','Author']).agg({'quote_freq':sum})\n",
    "#rf\n",
    "#rf.sort_values(['Author','quote_freq'],ascending=False).groupby('Author')\n",
    "#rf\n",
    "rf = rf.groupby(['Author']).agg({'quote_freq':sum})\n",
    "rf\n",
    "#rf['freq_per_Author']= rf\n",
    "#rf=rf.groupby('Author').count()\n",
    "#rf=rf.join(rf1)\n",
    "#rf\n",
    "rf2= rf1.values.tolist()\n",
    "print((rf2))\n",
    "rf3= rf.values.tolist()\n",
    "#l = [[1], [2], [3], [4], [5]]\n",
    "result = []\n",
    "for sublist in rf3:\n",
    "    for item in sublist:\n",
    "        result.append(item)\n",
    "print(result)\n"
   ]
  },
  {
   "cell_type": "code",
   "execution_count": 151,
   "id": "2708e15e",
   "metadata": {},
   "outputs": [
    {
     "name": "stdout",
     "output_type": "stream",
     "text": [
      "[20.142857142857142, 18.0, 12.0, 19.0, 78.5, 18.0, 12.0, 14.0, 22.0, 20.666666666666668, 19.0, 37.0, 9.0, 16.0, 24.0, 10.0, 16.0, 12.0, 19.0, 20.0, 31.0, 47.0, 17.25, 27.0, 28.142857142857142, 27.0, 12.0, 27.0, 109.125, 12.625, 9.0, 66.0, 52.0, 7.0, 9.0, 17.0, 24.0, 12.0, 7.0]\n"
     ]
    }
   ],
   "source": [
    "res =[i/j for  i,j in zip(result,rf2)]\n",
    "print((res))"
   ]
  },
  {
   "cell_type": "code",
   "execution_count": 152,
   "id": "824239a9",
   "metadata": {},
   "outputs": [
    {
     "name": "stdout",
     "output_type": "stream",
     "text": [
      "[20.142857142857142, 18.0, 12.0, 19.0, 78.5, 18.0, 12.0, 14.0, 22.0, 20.666666666666668, 19.0, 37.0, 9.0, 16.0, 24.0, 10.0, 16.0, 12.0, 19.0, 20.0, 31.0, 47.0, 17.25, 27.0, 28.142857142857142, 27.0, 12.0, 27.0, 109.125, 12.625, 9.0, 66.0, 52.0, 7.0, 9.0, 17.0, 24.0, 12.0, 7.0]\n"
     ]
    }
   ],
   "source": [
    "Average_length_perAuthor= res\n",
    "print(Average_length_perAuthor)"
   ]
  },
  {
   "cell_type": "code",
   "execution_count": 172,
   "id": "4872a953",
   "metadata": {},
   "outputs": [],
   "source": [
    "Author_name=df['Author'].values.tolist()\n",
    "Author_name=set(Author_name)\n",
    "Author_name=list(Author_name)"
   ]
  },
  {
   "cell_type": "code",
   "execution_count": 173,
   "id": "b7aebfcf",
   "metadata": {},
   "outputs": [
    {
     "data": {
      "image/png": "[encoded data removed]",
      "text/plain": [
       "<Figure size 432x288 with 1 Axes>"
      ]
     },
     "metadata": {
      "needs_background": "light"
     },
     "output_type": "display_data"
    }
   ],
   "source": [
    "%matplotlib inline\n",
    "import matplotlib.pyplot as plt\n",
    "\n",
    "x_axis = Author_name\n",
    "y_axis = Average_length_perAuthor\n",
    "\n",
    "plt.plot(x_axis, y_axis)\n",
    "plt.title('Average word per Author')\n",
    "plt.xlabel('Author\\'s Name')\n",
    "plt.ylabel('Average Values')\n",
    "plt.show()"
   ]
  },
  {
   "cell_type": "code",
   "execution_count": null,
   "id": "50abc8a6",
   "metadata": {},
   "outputs": [],
   "source": []
  },
  {
   "cell_type": "code",
   "execution_count": null,
   "id": "ca612491",
   "metadata": {},
   "outputs": [],
   "source": []
  },
  {
   "cell_type": "code",
   "execution_count": null,
   "id": "d8997cf1",
   "metadata": {},
   "outputs": [],
   "source": []
  },
  {
   "cell_type": "code",
   "execution_count": null,
   "id": "dd9f4a7b",
   "metadata": {},
   "outputs": [],
   "source": []
  },
  {
   "cell_type": "code",
   "execution_count": null,
   "id": "3c5d658e",
   "metadata": {},
   "outputs": [],
   "source": []
  },
  {
   "cell_type": "code",
   "execution_count": null,
   "id": "9b2a85ac",
   "metadata": {},
   "outputs": [],
   "source": []
  },
  {
   "cell_type": "code",
   "execution_count": null,
   "id": "b641ea0b",
   "metadata": {},
   "outputs": [],
   "source": []
  },
  {
   "cell_type": "code",
   "execution_count": null,
   "id": "1c4b1dea",
   "metadata": {},
   "outputs": [],
   "source": []
  },
  {
   "cell_type": "code",
   "execution_count": null,
   "id": "418bf2d3",
   "metadata": {},
   "outputs": [],
   "source": []
  },
  {
   "cell_type": "code",
   "execution_count": null,
   "id": "fa079a04",
   "metadata": {},
   "outputs": [],
   "source": []
  },
  {
   "cell_type": "code",
   "execution_count": null,
   "id": "fe2d1f1c",
   "metadata": {},
   "outputs": [],
   "source": []
  },
  {
   "cell_type": "code",
   "execution_count": null,
   "id": "b703f1b9",
   "metadata": {},
   "outputs": [],
   "source": []
  },
  {
   "cell_type": "code",
   "execution_count": null,
   "id": "b949f10e",
   "metadata": {},
   "outputs": [],
   "source": []
  },
  {
   "cell_type": "code",
   "execution_count": null,
   "id": "6c7e9d91",
   "metadata": {},
   "outputs": [],
   "source": []
  },
  {
   "cell_type": "code",
   "execution_count": null,
   "id": "3da79c6f",
   "metadata": {},
   "outputs": [],
   "source": []
  },
  {
   "cell_type": "code",
   "execution_count": null,
   "id": "f0bde8d3",
   "metadata": {},
   "outputs": [],
   "source": []
  },
  {
   "cell_type": "code",
   "execution_count": null,
   "id": "ab76b689",
   "metadata": {},
   "outputs": [],
   "source": []
  },
  {
   "cell_type": "code",
   "execution_count": null,
   "id": "a24dd93d",
   "metadata": {},
   "outputs": [],
   "source": []
  },
  {
   "cell_type": "code",
   "execution_count": null,
   "id": "25491fa6",
   "metadata": {},
   "outputs": [],
   "source": []
  },
  {
   "cell_type": "code",
   "execution_count": null,
   "id": "829c7306",
   "metadata": {},
   "outputs": [],
   "source": []
  },
  {
   "cell_type": "code",
   "execution_count": null,
   "id": "1f3d6a7f",
   "metadata": {},
   "outputs": [],
   "source": []
  },
  {
   "cell_type": "code",
   "execution_count": null,
   "id": "88036c22",
   "metadata": {},
   "outputs": [],
   "source": []
  },
  {
   "cell_type": "code",
   "execution_count": null,
   "id": "d4aa9965",
   "metadata": {},
   "outputs": [],
   "source": []
  },
  {
   "cell_type": "code",
   "execution_count": null,
   "id": "4506ba37",
   "metadata": {},
   "outputs": [],
   "source": []
  },
  {
   "cell_type": "code",
   "execution_count": null,
   "id": "e1aa8393",
   "metadata": {},
   "outputs": [],
   "source": []
  },
  {
   "cell_type": "code",
   "execution_count": null,
   "id": "658f159d",
   "metadata": {},
   "outputs": [],
   "source": []
  },
  {
   "cell_type": "code",
   "execution_count": null,
   "id": "e1e6133b",
   "metadata": {},
   "outputs": [],
   "source": []
  },
  {
   "cell_type": "code",
   "execution_count": null,
   "id": "62f0a87f",
   "metadata": {},
   "outputs": [],
   "source": []
  },
  {
   "cell_type": "code",
   "execution_count": null,
   "id": "fdecdc54",
   "metadata": {},
   "outputs": [],
   "source": []
  },
  {
   "cell_type": "code",
   "execution_count": null,
   "id": "2545772d",
   "metadata": {},
   "outputs": [],
   "source": []
  },
  {
   "cell_type": "code",
   "execution_count": null,
   "id": "1eeca8da",
   "metadata": {},
   "outputs": [],
   "source": []
  },
  {
   "cell_type": "code",
   "execution_count": null,
   "id": "22824fb3",
   "metadata": {},
   "outputs": [],
   "source": []
  },
  {
   "cell_type": "code",
   "execution_count": null,
   "id": "3f66e42b",
   "metadata": {},
   "outputs": [],
   "source": []
  },
  {
   "cell_type": "code",
   "execution_count": null,
   "id": "1cfcd021",
   "metadata": {},
   "outputs": [],
   "source": []
  },
  {
   "cell_type": "code",
   "execution_count": null,
   "id": "614859ce",
   "metadata": {},
   "outputs": [],
   "source": []
  },
  {
   "cell_type": "code",
   "execution_count": null,
   "id": "12038f2e",
   "metadata": {},
   "outputs": [],
   "source": []
  },
  {
   "cell_type": "code",
   "execution_count": null,
   "id": "97c971dc",
   "metadata": {},
   "outputs": [],
   "source": []
  },
  {
   "cell_type": "code",
   "execution_count": null,
   "id": "5a81bd2b",
   "metadata": {},
   "outputs": [],
   "source": []
  },
  {
   "cell_type": "code",
   "execution_count": null,
   "id": "53429157",
   "metadata": {},
   "outputs": [],
   "source": []
  },
  {
   "cell_type": "code",
   "execution_count": null,
   "id": "d398bc51",
   "metadata": {},
   "outputs": [],
   "source": []
  },
  {
   "cell_type": "code",
   "execution_count": null,
   "id": "bec2c1e5",
   "metadata": {},
   "outputs": [],
   "source": []
  },
  {
   "cell_type": "code",
   "execution_count": null,
   "id": "94b84426",
   "metadata": {},
   "outputs": [],
   "source": []
  },
  {
   "cell_type": "code",
   "execution_count": null,
   "id": "d5276dcc",
   "metadata": {},
   "outputs": [],
   "source": []
  },
  {
   "cell_type": "code",
   "execution_count": null,
   "id": "03e36f7f",
   "metadata": {},
   "outputs": [],
   "source": []
  },
  {
   "cell_type": "code",
   "execution_count": null,
   "id": "25fa6d6a",
   "metadata": {},
   "outputs": [],
   "source": []
  },
  {
   "cell_type": "code",
   "execution_count": null,
   "id": "5019045c",
   "metadata": {},
   "outputs": [],
   "source": []
  },
  {
   "cell_type": "code",
   "execution_count": null,
   "id": "1638c935",
   "metadata": {},
   "outputs": [],
   "source": []
  },
  {
   "cell_type": "code",
   "execution_count": null,
   "id": "d000ae3b",
   "metadata": {},
   "outputs": [],
   "source": []
  },
  {
   "cell_type": "code",
   "execution_count": null,
   "id": "8098a86a",
   "metadata": {},
   "outputs": [],
   "source": []
  },
  {
   "cell_type": "code",
   "execution_count": null,
   "id": "fcc70d3e",
   "metadata": {},
   "outputs": [],
   "source": []
  },
  {
   "cell_type": "code",
   "execution_count": null,
   "id": "46b9a7d3",
   "metadata": {},
   "outputs": [],
   "source": []
  },
  {
   "cell_type": "code",
   "execution_count": null,
   "id": "a3eec198",
   "metadata": {},
   "outputs": [],
   "source": []
  },
  {
   "cell_type": "code",
   "execution_count": null,
   "id": "2226f774",
   "metadata": {},
   "outputs": [],
   "source": []
  },
  {
   "cell_type": "code",
   "execution_count": null,
   "id": "1a892f16",
   "metadata": {},
   "outputs": [],
   "source": []
  },
  {
   "cell_type": "code",
   "execution_count": null,
   "id": "3fb57dcb",
   "metadata": {},
   "outputs": [],
   "source": []
  },
  {
   "cell_type": "code",
   "execution_count": null,
   "id": "7f46462e",
   "metadata": {},
   "outputs": [],
   "source": []
  },
  {
   "cell_type": "code",
   "execution_count": null,
   "id": "632c7d9a",
   "metadata": {},
   "outputs": [],
   "source": []
  },
  {
   "cell_type": "code",
   "execution_count": null,
   "id": "ca5875d1",
   "metadata": {},
   "outputs": [],
   "source": []
  },
  {
   "cell_type": "code",
   "execution_count": null,
   "id": "09b5db66",
   "metadata": {},
   "outputs": [],
   "source": []
  },
  {
   "cell_type": "code",
   "execution_count": null,
   "id": "68ba2675",
   "metadata": {},
   "outputs": [],
   "source": []
  },
  {
   "cell_type": "code",
   "execution_count": null,
   "id": "5962011a",
   "metadata": {},
   "outputs": [],
   "source": []
  },
  {
   "cell_type": "code",
   "execution_count": null,
   "id": "7b640e9f",
   "metadata": {},
   "outputs": [],
   "source": []
  },
  {
   "cell_type": "code",
   "execution_count": null,
   "id": "c1b046cd",
   "metadata": {},
   "outputs": [],
   "source": []
  },
  {
   "cell_type": "code",
   "execution_count": null,
   "id": "61f50c6e",
   "metadata": {},
   "outputs": [],
   "source": []
  },
  {
   "cell_type": "code",
   "execution_count": null,
   "id": "774720e4",
   "metadata": {},
   "outputs": [],
   "source": []
  },
  {
   "cell_type": "code",
   "execution_count": null,
   "id": "35ffbabc",
   "metadata": {},
   "outputs": [],
   "source": []
  },
  {
   "cell_type": "code",
   "execution_count": null,
   "id": "43bc6bbc",
   "metadata": {},
   "outputs": [],
   "source": []
  },
  {
   "cell_type": "code",
   "execution_count": null,
   "id": "27b0f9c2",
   "metadata": {},
   "outputs": [],
   "source": []
  },
  {
   "cell_type": "code",
   "execution_count": null,
   "id": "14b1ed6c",
   "metadata": {},
   "outputs": [],
   "source": []
  },
  {
   "cell_type": "code",
   "execution_count": null,
   "id": "85be89d2",
   "metadata": {},
   "outputs": [],
   "source": []
  },
  {
   "cell_type": "code",
   "execution_count": null,
   "id": "ab0e9c5e",
   "metadata": {},
   "outputs": [],
   "source": []
  },
  {
   "cell_type": "code",
   "execution_count": null,
   "id": "a044d491",
   "metadata": {},
   "outputs": [],
   "source": []
  },
  {
   "cell_type": "code",
   "execution_count": null,
   "id": "75f8a473",
   "metadata": {},
   "outputs": [],
   "source": []
  },
  {
   "cell_type": "code",
   "execution_count": null,
   "id": "6ee5e01a",
   "metadata": {},
   "outputs": [],
   "source": []
  },
  {
   "cell_type": "code",
   "execution_count": null,
   "id": "aed3b3fc",
   "metadata": {},
   "outputs": [],
   "source": []
  },
  {
   "cell_type": "code",
   "execution_count": null,
   "id": "a1b5171f",
   "metadata": {},
   "outputs": [],
   "source": []
  },
  {
   "cell_type": "code",
   "execution_count": null,
   "id": "06c945e1",
   "metadata": {},
   "outputs": [],
   "source": []
  },
  {
   "cell_type": "code",
   "execution_count": null,
   "id": "8e1b7cd3",
   "metadata": {},
   "outputs": [],
   "source": []
  },
  {
   "cell_type": "code",
   "execution_count": null,
   "id": "f5ffb48f",
   "metadata": {},
   "outputs": [],
   "source": []
  },
  {
   "cell_type": "code",
   "execution_count": null,
   "id": "d5258b0e",
   "metadata": {},
   "outputs": [],
   "source": []
  },
  {
   "cell_type": "code",
   "execution_count": null,
   "id": "0e896294",
   "metadata": {},
   "outputs": [],
   "source": []
  },
  {
   "cell_type": "code",
   "execution_count": null,
   "id": "c50ac056",
   "metadata": {},
   "outputs": [],
   "source": []
  },
  {
   "cell_type": "code",
   "execution_count": null,
   "id": "3df410b9",
   "metadata": {},
   "outputs": [],
   "source": []
  },
  {
   "cell_type": "code",
   "execution_count": null,
   "id": "a7a87a68",
   "metadata": {},
   "outputs": [],
   "source": []
  },
  {
   "cell_type": "code",
   "execution_count": null,
   "id": "5c01bd7d",
   "metadata": {},
   "outputs": [],
   "source": []
  },
  {
   "cell_type": "code",
   "execution_count": null,
   "id": "b3d1263d",
   "metadata": {},
   "outputs": [],
   "source": []
  },
  {
   "cell_type": "code",
   "execution_count": null,
   "id": "55e4ff0b",
   "metadata": {},
   "outputs": [],
   "source": []
  },
  {
   "cell_type": "code",
   "execution_count": null,
   "id": "1885e32f",
   "metadata": {},
   "outputs": [],
   "source": []
  },
  {
   "cell_type": "code",
   "execution_count": null,
   "id": "b3619aff",
   "metadata": {},
   "outputs": [],
   "source": []
  },
  {
   "cell_type": "code",
   "execution_count": null,
   "id": "3a6c08ed",
   "metadata": {},
   "outputs": [],
   "source": []
  },
  {
   "cell_type": "code",
   "execution_count": null,
   "id": "d044e3e6",
   "metadata": {},
   "outputs": [],
   "source": []
  },
  {
   "cell_type": "code",
   "execution_count": null,
   "id": "bbc0f546",
   "metadata": {},
   "outputs": [],
   "source": []
  },
  {
   "cell_type": "code",
   "execution_count": null,
   "id": "0f5e3999",
   "metadata": {},
   "outputs": [],
   "source": []
  },
  {
   "cell_type": "code",
   "execution_count": null,
   "id": "8318c831",
   "metadata": {},
   "outputs": [],
   "source": []
  },
  {
   "cell_type": "code",
   "execution_count": null,
   "id": "9062cbf4",
   "metadata": {},
   "outputs": [],
   "source": []
  },
  {
   "cell_type": "code",
   "execution_count": null,
   "id": "ec53127b",
   "metadata": {},
   "outputs": [],
   "source": []
  },
  {
   "cell_type": "code",
   "execution_count": null,
   "id": "66172b60",
   "metadata": {},
   "outputs": [],
   "source": []
  },
  {
   "cell_type": "code",
   "execution_count": null,
   "id": "5ffe9ea3",
   "metadata": {},
   "outputs": [],
   "source": []
  },
  {
   "cell_type": "code",
   "execution_count": null,
   "id": "e42cd899",
   "metadata": {},
   "outputs": [],
   "source": []
  },
  {
   "cell_type": "code",
   "execution_count": null,
   "id": "9554727b",
   "metadata": {},
   "outputs": [],
   "source": []
  },
  {
   "cell_type": "code",
   "execution_count": null,
   "id": "f2ec4054",
   "metadata": {},
   "outputs": [],
   "source": []
  },
  {
   "cell_type": "code",
   "execution_count": null,
   "id": "b53e6192",
   "metadata": {},
   "outputs": [],
   "source": []
  },
  {
   "cell_type": "code",
   "execution_count": null,
   "id": "2546ba95",
   "metadata": {},
   "outputs": [],
   "source": []
  },
  {
   "cell_type": "code",
   "execution_count": null,
   "id": "6e7c56e5",
   "metadata": {},
   "outputs": [],
   "source": []
  },
  {
   "cell_type": "code",
   "execution_count": null,
   "id": "14f5d73f",
   "metadata": {},
   "outputs": [],
   "source": []
  },
  {
   "cell_type": "code",
   "execution_count": null,
   "id": "c5b97949",
   "metadata": {},
   "outputs": [],
   "source": []
  },
  {
   "cell_type": "code",
   "execution_count": null,
   "id": "04a2dc51",
   "metadata": {},
   "outputs": [],
   "source": []
  },
  {
   "cell_type": "code",
   "execution_count": null,
   "id": "7c45195a",
   "metadata": {},
   "outputs": [],
   "source": []
  },
  {
   "cell_type": "code",
   "execution_count": null,
   "id": "b1d20efb",
   "metadata": {},
   "outputs": [],
   "source": []
  },
  {
   "cell_type": "code",
   "execution_count": null,
   "id": "15c27165",
   "metadata": {},
   "outputs": [],
   "source": []
  },
  {
   "cell_type": "code",
   "execution_count": null,
   "id": "9cc13864",
   "metadata": {},
   "outputs": [],
   "source": []
  },
  {
   "cell_type": "code",
   "execution_count": null,
   "id": "3184ba82",
   "metadata": {},
   "outputs": [],
   "source": []
  },
  {
   "cell_type": "code",
   "execution_count": null,
   "id": "89b266c2",
   "metadata": {},
   "outputs": [],
   "source": []
  },
  {
   "cell_type": "code",
   "execution_count": null,
   "id": "8498a794",
   "metadata": {},
   "outputs": [],
   "source": []
  },
  {
   "cell_type": "code",
   "execution_count": null,
   "id": "336643ad",
   "metadata": {},
   "outputs": [],
   "source": []
  },
  {
   "cell_type": "code",
   "execution_count": null,
   "id": "3f5a10c4",
   "metadata": {},
   "outputs": [],
   "source": []
  },
  {
   "cell_type": "code",
   "execution_count": null,
   "id": "b85e38b8",
   "metadata": {},
   "outputs": [],
   "source": []
  },
  {
   "cell_type": "code",
   "execution_count": 28,
   "id": "1e1684e0",
   "metadata": {},
   "outputs": [],
   "source": [
    "tags=['change,deep-thoughts,thinking,world',\n",
    " 'abilities,choices',\n",
    " 'inspirational,life,live,miracle,miracles',\n",
    " 'aliteracy,books,classic,humor',\n",
    " 'be-yourself,inspirational',\n",
    " 'adulthood,success,value',\n",
    " 'life,love',\n",
    " 'edison,failure,inspirational,paraphrased',\n",
    " 'misattributed-eleanor-roosevelt',\n",
    " 'humor,obvious,simile',\n",
    " 'life,love',\n",
    " 'friends,heartbreak,inspirational,life,love,sisters',\n",
    " 'love',\n",
    " 'activism,apathy,hate,indifference,inspirational,love,opposite,philosophy',\n",
    " 'friendship,lack-of-friendship,lack-of-love,love,marriage,unhappy-marriage',\n",
    " 'love,poetry',\n",
    " 'girls,love',\n",
    " 'love',\n",
    " 'love',\n",
    " 'friendship,love',\n",
    " 'inspirational,life,live,miracle,miracles',\n",
    " 'be-yourself,inspirational',\n",
    " 'edison,failure,inspirational,paraphrased',\n",
    " 'friends,heartbreak,inspirational,life,love,sisters',\n",
    " 'activism,apathy,hate,indifference,inspirational,love,opposite,philosophy',\n",
    " 'death,inspirational',\n",
    " 'inspirational',\n",
    " 'books,inspirational,reading,tea',\n",
    " 'hope,inspirational',\n",
    " 'inspirational',\n",
    " 'inspirational,life,live,miracle,miracles',\n",
    " 'life,love',\n",
    " 'friends,heartbreak,inspirational,life,love,sisters',\n",
    " 'life,navigation',\n",
    " 'books,contentment,friends,friendship,life',\n",
    " 'fate,life,misattributed-john-lennon,planning,plans',\n",
    " 'comedy,life,yourself',\n",
    " 'life,simile',\n",
    " 'inspirational,life,yourself',\n",
    " 'life,regrets',\n",
    " 'aliteracy,books,classic,humor',\n",
    " 'humor,obvious,simile',\n",
    " 'humor,religion',\n",
    " 'humor',\n",
    " 'chocolate,food,humor',\n",
    " 'humor',\n",
    " 'humor',\n",
    " 'humor,open-mind,thinking',\n",
    " 'humor,philosophy',\n",
    " 'humor,insanity,lies,lying,self-indulgence,truth',\n",
    " 'aliteracy,books,classic,humor',\n",
    " 'books,contentment,friends,friendship,life',\n",
    " 'books,library',\n",
    " 'books,inspirational,reading,tea',\n",
    " 'books,thought',\n",
    " 'books,friends,novelist-quotes',\n",
    " 'authors,books,literature,reading,writing',\n",
    " 'books,classic,reading',\n",
    " 'books,library,reading',\n",
    " 'books,children,difficult,grown-ups,write,writers,writing',\n",
    " 'learning,reading,seuss',\n",
    " 'misattributed-to-c-s-lewis,reading',\n",
    " 'read,readers,reading,reading-books',\n",
    " 'books,inspirational,reading,tea',\n",
    " 'authors,books,literature,reading,writing',\n",
    " 'books,classic,reading',\n",
    " 'books,library,reading',\n",
    " 'friendship,lack-of-friendship,lack-of-love,love,marriage,unhappy-marriage',\n",
    " 'books,contentment,friends,friendship,life',\n",
    " 'friendship',\n",
    " 'friendship,love',\n",
    " 'friendship,love',\n",
    " 'friends,heartbreak,inspirational,life,love,sisters',\n",
    " 'courage,friends',\n",
    " 'books,contentment,friends,friendship,life',\n",
    " 'books,friends,novelist-quotes',\n",
    " 'humor,insanity,lies,lying,self-indulgence,truth',\n",
    " 'misattributed-mark-twain,truth',\n",
    " 'truth',\n",
    " 'truth',\n",
    " 'humor,obvious,simile',\n",
    " 'life,simile',\n",
    " 'drug,romance,simile',\n",
    " 'humor,obvious,simile',\n",
    " 'life,simile',\n",
    " 'drug,romance,simile']"
   ]
  },
  {
   "cell_type": "code",
   "execution_count": 32,
   "id": "87e922fa",
   "metadata": {},
   "outputs": [],
   "source": [
    "quotes=['“The world as we have created it is a process of our thinking. It cannot be changed without changing our thinking.”', '“It is our choices, Harry, that show what we truly are, far more than our abilities.”', '“There are only two ways to live your life. One is as though nothing is a miracle. The other is as though everything is a miracle.”', '“The person, be it gentleman or lady, who has not pleasure in a good novel, must be intolerably stupid.”', \"“Imperfection is beauty, madness is genius and it's better to be absolutely ridiculous than absolutely boring.”\", '“Try not to become a man of success. Rather become a man of value.”', '“It is better to be hated for what you are than to be loved for what you are not.”', \"“I have not failed. I've just found 10,000 ways that won't work.”\", \"“A woman is like a tea bag; you never know how strong it is until it's in hot water.”\", '“A day without sunshine is like, you know, night.”', '→', '\\ninspirational\\n', '\\nhumor\\n', '\\nreading\\n', '\\nfriends\\n', '\\nsimile\\n',\n",
    "'“It is better to be hated for what you are than to be loved for what you are not.”', \"“This life is what you make it. No matter what, you're going to mess up sometimes, it's a universal truth. But the good part is you get to decide how you're going to mess it up. Girls will be your friends - they'll act like it anyway. But just remember, some come, some go. The ones that stay with you through everything - they're your true best friends. Don't let go of them. Also remember, sisters make the best friends in the world. As for lovers, well, they'll come and go too. And baby, I hate to say it, most of them - actually pretty much all of them are going to break your heart, but you can't give up because if you give up, you'll never find your soulmate. You'll never find that half who makes you whole and that goes for everything. Just because you fail once, doesn't mean you're gonna fail at everything. Keep trying, hold on, and always, always, always believe in yourself, because if you don't, then who will, sweetie? So keep your head high, keep your chin up, and most importantly, keep smiling, because life's a beautiful thing and there's so much to smile about.”\", \"“You may not be her first, her last, or her only. She loved before she may love again. But if she loves you now, what else matters? She's not perfect—you aren't either, and the two of you may never be perfect together but if she can make you laugh, cause you to think twice, and admit to being human and making mistakes, hold onto her and give her the most you can. She may not be thinking about you every second of the day, but she will give you a part of her that she knows you can break—her heart. So don't hurt her, don't change her, don't analyze and don't expect more than she can give. Smile when she makes you happy, let her know when she makes you mad, and miss her when she's not there.”\", \"“The opposite of love is not hate, it's indifference. The opposite of art is not ugliness, it's indifference. The opposite of faith is not heresy, it's indifference. And the opposite of life is not death, it's indifference.”\", '“It is not a lack of love, but a lack of friendship that makes unhappy marriages.”', '“I love you without knowing how, or when, or from where. I love you simply, without problems or pride: I love you in this way because I do not know any other way of loving but this, in which there is no I or you, so intimate that your hand upon my chest is my hand, so intimate that when I fall asleep your eyes close.”', '“If you can make a woman laugh, you can make her do anything.”', '“The real lover is the man who can thrill you by kissing your forehead or smiling into your eyes or just staring into space.”', '“Love does not begin and end the way we seem to think it does. Love is a battle, love is a war; love is a growing up.”', '“There is nothing I would not do for those who are really my friends. I have no notion of loving people by halves, it is not my nature.”', '→', '\\ninspirational\\n', '\\nhumor\\n', '\\nreading\\n', '\\nfriends\\n', '\\nsimile\\n',\n",
    "'“There are only two ways to live your life. One is as though nothing is a miracle. The other is as though everything is a miracle.”', \"“Imperfection is beauty, madness is genius and it's better to be absolutely ridiculous than absolutely boring.”\", \"“I have not failed. I've just found 10,000 ways that won't work.”\", \"“This life is what you make it. No matter what, you're going to mess up sometimes, it's a universal truth. But the good part is you get to decide how you're going to mess it up. Girls will be your friends - they'll act like it anyway. But just remember, some come, some go. The ones that stay with you through everything - they're your true best friends. Don't let go of them. Also remember, sisters make the best friends in the world. As for lovers, well, they'll come and go too. And baby, I hate to say it, most of them - actually pretty much all of them are going to break your heart, but you can't give up because if you give up, you'll never find your soulmate. You'll never find that half who makes you whole and that goes for everything. Just because you fail once, doesn't mean you're gonna fail at everything. Keep trying, hold on, and always, always, always believe in yourself, because if you don't, then who will, sweetie? So keep your head high, keep your chin up, and most importantly, keep smiling, because life's a beautiful thing and there's so much to smile about.”\", \"“The opposite of love is not hate, it's indifference. The opposite of art is not ugliness, it's indifference. The opposite of faith is not heresy, it's indifference. And the opposite of life is not death, it's indifference.”\", '“To the well-organized mind, death is but the next great adventure.”', '“It is never too late to be what you might have been.”', '“You can never get a cup of tea large enough or a book long enough to suit me.”', '“Only in the darkness can you see the stars.”', '“When one door of happiness closes, another opens; but often we look so long at the closed door that we do not see the one which has been opened for us.”', '→', '\\ninspirational\\n', '\\nhumor\\n', '\\nreading\\n', '\\nfriends\\n', '\\nsimile\\n',\n",
    "'“There are only two ways to live your life. One is as though nothing is a miracle. The other is as though everything is a miracle.”', '“It is better to be hated for what you are than to be loved for what you are not.”', \"“This life is what you make it. No matter what, you're going to mess up sometimes, it's a universal truth. But the good part is you get to decide how you're going to mess it up. Girls will be your friends - they'll act like it anyway. But just remember, some come, some go. The ones that stay with you through everything - they're your true best friends. Don't let go of them. Also remember, sisters make the best friends in the world. As for lovers, well, they'll come and go too. And baby, I hate to say it, most of them - actually pretty much all of them are going to break your heart, but you can't give up because if you give up, you'll never find your soulmate. You'll never find that half who makes you whole and that goes for everything. Just because you fail once, doesn't mean you're gonna fail at everything. Keep trying, hold on, and always, always, always believe in yourself, because if you don't, then who will, sweetie? So keep your head high, keep your chin up, and most importantly, keep smiling, because life's a beautiful thing and there's so much to smile about.”\", '“I may not have gone where I intended to go, but I think I have ended up where I needed to be.”', '“Good friends, good books, and a sleepy conscience: this is the ideal life.”', '“Life is what happens to us while we are making other plans.”', '“Today you are You, that is truer than true. There is no one alive who is Youer than You.”', '“Life is like riding a bicycle. To keep your balance, you must keep moving.”', \"“Life isn't about finding yourself. Life is about creating yourself.”\", '“Finish each day and be done with it. You have done what you could. Some blunders and absurdities no doubt crept in; forget them as soon as you can. Tomorrow is a new day. You shall begin it serenely and with too high a spirit to be encumbered with your old nonsense.”', '→', '\\ninspirational\\n', '\\nhumor\\n', '\\nreading\\n', '\\nfriends\\n', '\\nsimile\\n',\n",
    "'“The person, be it gentleman or lady, who has not pleasure in a good novel, must be intolerably stupid.”', '“A day without sunshine is like, you know, night.”', '“Anyone who thinks sitting in church can make you a Christian must also think that sitting in a garage can make you a car.”', '“Beauty is in the eye of the beholder and it may be necessary from time to time to give a stupid or misinformed beholder a black eye.”', \"“All you need is love. But a little chocolate now and then doesn't hurt.”\", \"“Remember, we're madly in love, so it's all right to kiss me anytime you feel like it.”\", '“Some people never go crazy. What truly horrible lives they must lead.”', '“The trouble with having an open mind, of course, is that people will insist on coming along and trying to put things in it.”', '“Think left and think right and think low and think high. Oh, the thinks you can think up if only you try!”', '“The reason I talk to myself is because I’m the only one whose answers I accept.”', '→', '\\ninspirational\\n', '\\nhumor\\n', '\\nreading\\n', '\\nfriends\\n', '\\nsimile\\n',\n",
    "'“The person, be it gentleman or lady, who has not pleasure in a good novel, must be intolerably stupid.”', '“Good friends, good books, and a sleepy conscience: this is the ideal life.”', '“I have always imagined that Paradise will be a kind of library.”', '“You can never get a cup of tea large enough or a book long enough to suit me.”', '“If you only read the books that everyone else is reading, you can only think what everyone else is thinking.”', '“There is no friend as loyal as a book.”', \"“What really knocks me out is a book that, when you're all done reading it, you wish the author that wrote it was a terrific friend of yours and you could call him up on the phone whenever you felt like it. That doesn't happen much, though.”\", \"“′Classic′ - a book which people praise and don't read.”\", '“I declare after all there is no enjoyment like reading! How much sooner one tires of any thing than of a book! -- When I have a house of my own, I shall be miserable if I have not an excellent library.”', '“You have to write the book that wants to be written. And if the book will be too difficult for grown-ups, then you write it for children.”', '→', '\\ninspirational\\n', '\\nhumor\\n', '\\nreading\\n', '\\nfriends\\n', '\\nsimile\\n',\n",
    "\"“The more that you read, the more things you will know. The more that you learn, the more places you'll go.”\", \"“We read to know we're not alone.”\", '“A reader lives a thousand lives before he dies, said Jojen. The man who never reads lives only one.”', '“You can never get a cup of tea large enough or a book long enough to suit me.”', \"“What really knocks me out is a book that, when you're all done reading it, you wish the author that wrote it was a terrific friend of yours and you could call him up on the phone whenever you felt like it. That doesn't happen much, though.”\", \"“′Classic′ - a book which people praise and don't read.”\", '“I declare after all there is no enjoyment like reading! How much sooner one tires of any thing than of a book! -- When I have a house of my own, I shall be miserable if I have not an excellent library.”', '\\nlove\\n', '\\nlife\\n', '\\nbooks\\n', '\\nfriendship\\n', '\\ntruth\\n', '❤',\n",
    "'“It is not a lack of love, but a lack of friendship that makes unhappy marriages.”', '“Good friends, good books, and a sleepy conscience: this is the ideal life.”', '“The truth is, everyone is going to hurt you. You just got to find the ones worth suffering for.”', '“There is nothing I would not do for those who are really my friends. I have no notion of loving people by halves, it is not my nature.”', '“If I had a flower for every time I thought of you...I could walk through my garden forever.”', '\\nlove\\n', '\\nlife\\n', '\\nbooks\\n', '\\nfriendship\\n', '\\ntruth\\n', '❤',\n",
    "\"“This life is what you make it. No matter what, you're going to mess up sometimes, it's a universal truth. But the good part is you get to decide how you're going to mess it up. Girls will be your friends - they'll act like it anyway. But just remember, some come, some go. The ones that stay with you through everything - they're your true best friends. Don't let go of them. Also remember, sisters make the best friends in the world. As for lovers, well, they'll come and go too. And baby, I hate to say it, most of them - actually pretty much all of them are going to break your heart, but you can't give up because if you give up, you'll never find your soulmate. You'll never find that half who makes you whole and that goes for everything. Just because you fail once, doesn't mean you're gonna fail at everything. Keep trying, hold on, and always, always, always believe in yourself, because if you don't, then who will, sweetie? So keep your head high, keep your chin up, and most importantly, keep smiling, because life's a beautiful thing and there's so much to smile about.”\", '“It takes a great deal of bravery to stand up to our enemies, but just as much to stand up to our friends.”', '“Good friends, good books, and a sleepy conscience: this is the ideal life.”', '“There is no friend as loyal as a book.”', '\\nlove\\n', '\\nlife\\n', '\\nbooks\\n', '\\nfriendship\\n', '\\ntruth\\n', '❤',\n",
    "'“The reason I talk to myself is because I’m the only one whose answers I accept.”', '“A lie can travel half way around the world while the truth is putting on its shoes.”', '“The truth.\" Dumbledore sighed. \"It is a beautiful and terrible thing, and should therefore be treated with great caution.”', '“Never tell the truth to people who are not worthy of it.”', '\\nlove\\n', '\\nlife\\n', '\\nbooks\\n', '\\nfriendship\\n', '\\ntruth\\n', '❤',\n",
    "'“A day without sunshine is like, you know, night.”', '“Life is like riding a bicycle. To keep your balance, you must keep moving.”', \"“He's like a drug for you, Bella.”\", '\\nlove\\n', '\\nlife\\n', '\\nbooks\\n', '\\nfriendship\\n', '\\ntruth\\n', '❤']"
   ]
  },
  {
   "cell_type": "code",
   "execution_count": null,
   "id": "d74055ce",
   "metadata": {},
   "outputs": [],
   "source": []
  },
  {
   "cell_type": "code",
   "execution_count": null,
   "id": "472e7af2",
   "metadata": {},
   "outputs": [],
   "source": []
  }
 ],
 "metadata": {
  "kernelspec": {
   "display_name": "Python 3 (ipykernel)",
   "language": "python",
   "name": "python3"
  },
  "language_info": {
   "codemirror_mode": {
    "name": "ipython",
    "version": 3
   },
   "file_extension": ".py",
   "mimetype": "text/x-python",
   "name": "python",
   "nbconvert_exporter": "python",
   "pygments_lexer": "ipython3",
   "version": "3.9.7"
  }
 },
 "nbformat": 4,
 "nbformat_minor": 5
}
