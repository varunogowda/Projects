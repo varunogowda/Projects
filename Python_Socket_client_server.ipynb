{
 "cells": [
  {
   "cell_type": "code",
   "execution_count": 1,
   "id": "4bc2c750",
   "metadata": {},
   "outputs": [
    {
     "name": "stdout",
     "output_type": "stream",
     "text": [
      "{'scheme': 'https', 'hostname': 'west.uni-koblenz.de', 'Domain': 'west.uni-koblenz.de', 'portnumber': None, 'path': '/studying/ws2223/introduction-web-science', 'port': ' '}\n",
      "west.uni-koblenz.de\n"
     ]
    }
   ],
   "source": [
    "input_url=input(\"Enter a valid url: \")\n",
    "def urlparser(url):\n",
    "    const={'scheme':None,'hostname':None, 'Domain': None, 'portnumber':None,'path':None}\n",
    "    if '//' in url:\n",
    "        ref=url.split('//')\n",
    "        if len(ref)>1:\n",
    "            scheme=ref[0]\n",
    "            scheme=scheme.strip(':')\n",
    "            const['scheme']=scheme\n",
    "            url=ref[1]\n",
    "    else:\n",
    "        const['scheme']=' '\n",
    "\n",
    "      \n",
    "    if '/' in url:\n",
    "        ref=url.split('/',1)\n",
    "        hostname=ref[0]\n",
    "        (\"hostname = \",hostname)\n",
    "        const['hostname']=hostname\n",
    "        url=ref[1]\n",
    "        \n",
    "    \n",
    "    else:\n",
    "        hostname=url\n",
    "        const['hostname']=hostname\n",
    "        \n",
    "    \n",
    "    hostname=hostname.split(\":\")\n",
    "    #print(hostname)\n",
    "    \n",
    "    if len(hostname)>1:\n",
    "        Domain = hostname[0]\n",
    "        portnumber = hostname[1]\n",
    "        path =ref[1]\n",
    "        const['Domain']= Domain\n",
    "        const['portnumber']= ':' + portnumber\n",
    "        const['path']= path\n",
    "    else:\n",
    "        const['Domain']=hostname[0]\n",
    "        const['port']=' '\n",
    "        const['path']='/'+ ref[1]\n",
    "    return(const)\n",
    "url= urlparser(input_url)\n",
    "print(url)\n",
    "Domain= url['Domain']\n",
    "print(Domain)"
   ]
  },
  {
   "cell_type": "code",
   "execution_count": 2,
   "id": "928a8cc4",
   "metadata": {},
   "outputs": [
    {
     "name": "stdout",
     "output_type": "stream",
     "text": [
      "the socket has coonected to host-server and IP is 141.26.70.139\n",
      "scheme : https,Port : 443\n",
      "HTTP/1.1 400 Bad Request\n",
      "Server: nginx/1.20.1\n",
      "Date: Wed, 23 Nov 2022 18:21:54 GMT\n",
      "Content-Type: text/html\n",
      "Content-Length: 255\n",
      "Connection: close\n",
      "\n",
      "<html>\n",
      "<head><title>400 The plain HTTP request was sent to HTTPS port</title></head>\n",
      "<body>\n",
      "<center><h1>400 Bad Request</h1></center>\n",
      "<center>The plain HTTP request was sent to HTTPS port</center>\n",
      "<hr><center>nginx/1.20.1</center>\n",
      "</body>\n",
      "</html>\n",
      "\n"
     ]
    }
   ],
   "source": [
    "#socket creation \n",
    "import socket\n",
    "s = socket.socket(socket.AF_INET, socket.SOCK_STREAM)\n",
    "#assigning port number\n",
    "if url['scheme']=='https':\n",
    "    port = 443\n",
    "else:\n",
    "    port = 80\n",
    "#getting host-server IP address\n",
    "\n",
    "url_ip=socket.gethostbyname(Domain)\n",
    "s.connect((url_ip, port)) \n",
    "print(\"the socket has coonected to host-server and IP is\",url_ip)\n",
    "print(\"scheme : \"+ url['scheme']+\",Port :\",+port)\n",
    "\n",
    "request='GET / HTTP/1.0 \\r\\nHost: '+Domain+'\\r\\n\\r\\n'\n",
    "request=request.encode()\n",
    "s.send(request)\n",
    "response=s.recv(1000).decode()\n",
    "print(response)\n"
   ]
  },
  {
   "cell_type": "code",
   "execution_count": 3,
   "id": "59562a5b",
   "metadata": {},
   "outputs": [
    {
     "name": "stdout",
     "output_type": "stream",
     "text": [
      "HTTP/1.1 400 Bad Request\n",
      "Server: nginx/1.20.1\n",
      "Date: Wed, 23 Nov 2022 18:21:54 GMT\n",
      "Content-Type: text/html\n",
      "Content-Length: 255\n",
      "Connection: close\n"
     ]
    }
   ],
   "source": [
    "#separating the header and body\n",
    "\n",
    "deli='\\r\\n\\r\\n'\n",
    "content=response.split(deli)\n",
    "\n",
    "head=content[0].strip()\n",
    "body=content[1]\n",
    "print(head)\n"
   ]
  },
  {
   "cell_type": "code",
   "execution_count": 4,
   "id": "054f9c27",
   "metadata": {},
   "outputs": [],
   "source": [
    "header =head.split()\n",
    "\n",
    "\n",
    "status=\"400\"\n",
    "if status in header:\n",
    "    fileOut = open(\"/Users/varun/Desktop/body.html\",\"w\")\n",
    "    fileOut.write(body)\n",
    "    fileOut.close()\n",
    "else:\n",
    "    print(\" Url has BAD response\")"
   ]
  },
  {
   "cell_type": "code",
   "execution_count": null,
   "id": "4ef1ef16",
   "metadata": {},
   "outputs": [],
   "source": []
  }
 ],
 "metadata": {
  "interpreter": {
   "hash": "31f2aee4e71d21fbe5cf8b01ff0e069b9275f58929596ceb00d14d90e3e16cd6"
  },
  "kernelspec": {
   "display_name": "Python 3.9.6 64-bit",
   "language": "python",
   "name": "python3"
  },
  "language_info": {
   "codemirror_mode": {
    "name": "ipython",
    "version": 3
   },
   "file_extension": ".py",
   "mimetype": "text/x-python",
   "name": "python",
   "nbconvert_exporter": "python",
   "pygments_lexer": "ipython3",
   "version": "3.9.6"
  }
 },
 "nbformat": 4,
 "nbformat_minor": 5
}
