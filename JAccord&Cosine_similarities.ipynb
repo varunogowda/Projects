{
 "cells": [
  {
   "cell_type": "code",
   "execution_count": 1,
   "id": "a3611870",
   "metadata": {},
   "outputs": [],
   "source": [
    "import pandas as pd\n",
    "import numpy as np\n"
   ]
  },
  {
   "cell_type": "code",
   "execution_count": 2,
   "id": "dda44972",
   "metadata": {},
   "outputs": [],
   "source": [
    "with open('/Users/varun/Desktop/Web Science/Assignment_7/simple-english-wikipedia.txt')as f:\n",
    "    lines = f.readlines()"
   ]
  },
  {
   "cell_type": "code",
   "execution_count": 19,
   "id": "34a36436",
   "metadata": {},
   "outputs": [
    {
     "data": {
      "text/plain": [
       "\"['The Simple English Wikipedia is an English-language version of Wikipedia, an online encyclopedia, that is written in basic English. It was built on November 17, 2003. All of the articles in the Simple English Wikipedia need to use shorter sentences and easier words and grammar than the regular English Wikipedia. People with different needs use the Simple English Wikipedia. They include: students, children, adults, who might find it hard to learn or read. People who are learning English as a second language. Other people use the Simple English Wikipedia because the basic language helps them understand hard ideas or topics they do not know about. Many articles are shorter than the same articles in the English Wikipedia. Technical subjects use some terms which are not simple. Editors try to explain these terms in a simple way. This makes Simple English articles a good way to understand difficult articles from the ordinary English Wikipedia. If someone cannot understand an idea in complex English, they can read the Simple English article. When the Simple English Wikipedia began in 2003, the ordinary English Wikipedia already had 150,000 articles, and seven other Wikipedias in other languages had over 15,000 articles. Since the other Wikipedias already have so many articles, most Simple English articles take articles from other Wikipedias and make them simple; they are usually not new articles. Right now, the Simple English Wikipedia has 128,492 articles. As of December 2016, it was the 52nd largest Wikipedia.\\\\n']\""
      ]
     },
     "execution_count": 19,
     "metadata": {},
     "output_type": "execute_result"
    }
   ],
   "source": [
    "lines=str(lines)\n",
    "lines"
   ]
  },
  {
   "cell_type": "code",
   "execution_count": 20,
   "id": "f18ef25c",
   "metadata": {},
   "outputs": [
    {
     "name": "stdout",
     "output_type": "stream",
     "text": [
      "\" \" , 242\n"
     ]
    }
   ],
   "source": [
    "count=0\n",
    "for i in lines:\n",
    "    if i==\" \":\n",
    "        count+=1\n",
    "Space_count=print(\"\\\" \\\"\",\",\",count)\n"
   ]
  },
  {
   "cell_type": "code",
   "execution_count": 24,
   "id": "a2de4878",
   "metadata": {},
   "outputs": [
    {
     "data": {
      "text/plain": [
       "\"['the simple english wikipedia is an english-language version of wikipedia, an online encyclopedia, that is written in basic english. it was built on november 17, 2003. all of the articles in the simple english wikipedia need to use shorter sentences and easier words and grammar than the regular english wikipedia. people with different needs use the simple english wikipedia. they include: students, children, adults, who might find it hard to learn or read. people who are learning english as a second language. other people use the simple english wikipedia because the basic language helps them understand hard ideas or topics they do not know about. many articles are shorter than the same articles in the english wikipedia. technical subjects use some terms which are not simple. editors try to explain these terms in a simple way. this makes simple english articles a good way to understand difficult articles from the ordinary english wikipedia. if someone cannot understand an idea in complex english, they can read the simple english article. when the simple english wikipedia began in 2003, the ordinary english wikipedia already had 150,000 articles, and seven other wikipedias in other languages had over 15,000 articles. since the other wikipedias already have so many articles, most simple english articles take articles from other wikipedias and make them simple; they are usually not new articles. right now, the simple english wikipedia has 128,492 articles. as of december 2016, it was the 52nd largest wikipedia.\\\\n']\""
      ]
     },
     "execution_count": 24,
     "metadata": {},
     "output_type": "execute_result"
    }
   ],
   "source": [
    "para=lines.lower()\n",
    "para"
   ]
  },
  {
   "cell_type": "code",
   "execution_count": 25,
   "id": "90b1119f",
   "metadata": {},
   "outputs": [
    {
     "name": "stdout",
     "output_type": "stream",
     "text": [
      "thesimpleenglishwikipediaisanenglishlanguageversionofwikipediaanonlineencyclopediathatiswritteninbasicenglishitwasbuiltonnovember172003allofthearticlesinthesimpleenglishwikipedianeedtouseshortersentencesandeasierwordsandgrammarthantheregularenglishwikipediapeoplewithdifferentneedsusethesimpleenglishwikipediatheyincludestudentschildrenadultswhomightfindithardtolearnorreadpeoplewhoarelearningenglishasasecondlanguageotherpeopleusethesimpleenglishwikipediabecausethebasiclanguagehelpsthemunderstandhardideasortopicstheydonotknowaboutmanyarticlesareshorterthanthesamearticlesintheenglishwikipediatechnicalsubjectsusesometermswhicharenotsimpleeditorstrytoexplainthesetermsinasimplewaythismakessimpleenglisharticlesagoodwaytounderstanddifficultarticlesfromtheordinaryenglishwikipediaifsomeonecannotunderstandanideaincomplexenglishtheycanreadthesimpleenglisharticlewhenthesimpleenglishwikipediabeganin2003theordinaryenglishwikipediaalreadyhad150000articlesandsevenotherwikipediasinotherlanguageshadover15000articlessincetheotherwikipediasalreadyhavesomanyarticlesmostsimpleenglisharticlestakearticlesfromotherwikipediasandmakethemsimpletheyareusuallynotnewarticlesrightnowthesimpleenglishwikipediahas128492articlesasofdecember2016itwasthe52ndlargestwikipedian\n"
     ]
    }
   ],
   "source": [
    "para=\"\".join(i for i in para if i.isalnum() )\n",
    "print(para)"
   ]
  },
  {
   "cell_type": "code",
   "execution_count": 26,
   "id": "73c03a4c",
   "metadata": {},
   "outputs": [
    {
     "data": {
      "text/plain": [
       "{'\" \"': 242,\n",
       " 't': 85,\n",
       " 'h': 68,\n",
       " 'e': 169,\n",
       " 's': 94,\n",
       " 'i': 129,\n",
       " 'm': 32,\n",
       " 'p': 38,\n",
       " 'l': 70,\n",
       " 'n': 85,\n",
       " 'g': 33,\n",
       " 'w': 29,\n",
       " 'k': 19,\n",
       " 'd': 54,\n",
       " 'a': 104,\n",
       " 'u': 22,\n",
       " 'v': 5,\n",
       " 'r': 64,\n",
       " 'o': 51,\n",
       " 'f': 11,\n",
       " 'c': 33,\n",
       " 'y': 15,\n",
       " 'b': 9,\n",
       " '1': 5,\n",
       " '7': 1,\n",
       " '2': 6,\n",
       " '0': 12,\n",
       " '3': 2,\n",
       " 'j': 1,\n",
       " 'x': 2,\n",
       " '5': 3,\n",
       " '8': 1,\n",
       " '4': 1,\n",
       " '9': 1,\n",
       " '6': 1}"
      ]
     },
     "execution_count": 26,
     "metadata": {},
     "output_type": "execute_result"
    }
   ],
   "source": [
    "freq={\"\\\" \\\"\":count}\n",
    "for i in para:\n",
    "    if i in freq:\n",
    "        freq[i]+=1\n",
    "    else:\n",
    "        freq[i]=1\n",
    "freq"
   ]
  },
  {
   "cell_type": "code",
   "execution_count": 27,
   "id": "7e92a75a",
   "metadata": {},
   "outputs": [],
   "source": [
    "type(freq)\n",
    "tab= pd.DataFrame(freq.items(), columns=['Term','Term freq'])\n",
    "tab.index=np.arange(1, len(tab)+1)\n",
    "#tab"
   ]
  },
  {
   "cell_type": "code",
   "execution_count": 28,
   "id": "6058224a",
   "metadata": {},
   "outputs": [
    {
     "data": {
      "text/plain": [
       "1497"
      ]
     },
     "execution_count": 28,
     "metadata": {},
     "output_type": "execute_result"
    }
   ],
   "source": [
    "sum=tab['Term freq'].sum()\n",
    "sum"
   ]
  },
  {
   "cell_type": "code",
   "execution_count": 29,
   "id": "7df56f55",
   "metadata": {},
   "outputs": [],
   "source": [
    "rf= tab['Term freq']\n",
    "prob=[]\n",
    "for col in rf:\n",
    "    p=col/sum\n",
    "    prob.append(p)"
   ]
  },
  {
   "cell_type": "code",
   "execution_count": 30,
   "id": "2091f29b",
   "metadata": {},
   "outputs": [
    {
     "data": {
      "text/html": [
       "<div>\n",
       "<style scoped>\n",
       "    .dataframe tbody tr th:only-of-type {\n",
       "        vertical-align: middle;\n",
       "    }\n",
       "\n",
       "    .dataframe tbody tr th {\n",
       "        vertical-align: top;\n",
       "    }\n",
       "\n",
       "    .dataframe thead th {\n",
       "        text-align: right;\n",
       "    }\n",
       "</style>\n",
       "<table border=\"1\" class=\"dataframe\">\n",
       "  <thead>\n",
       "    <tr style=\"text-align: right;\">\n",
       "      <th></th>\n",
       "      <th>Term</th>\n",
       "      <th>Term freq</th>\n",
       "      <th>probability</th>\n",
       "    </tr>\n",
       "  </thead>\n",
       "  <tbody>\n",
       "    <tr>\n",
       "      <th>1</th>\n",
       "      <td>\" \"</td>\n",
       "      <td>242</td>\n",
       "      <td>0.16166</td>\n",
       "    </tr>\n",
       "    <tr>\n",
       "      <th>2</th>\n",
       "      <td>t</td>\n",
       "      <td>85</td>\n",
       "      <td>0.05678</td>\n",
       "    </tr>\n",
       "    <tr>\n",
       "      <th>3</th>\n",
       "      <td>h</td>\n",
       "      <td>68</td>\n",
       "      <td>0.04542</td>\n",
       "    </tr>\n",
       "    <tr>\n",
       "      <th>4</th>\n",
       "      <td>e</td>\n",
       "      <td>169</td>\n",
       "      <td>0.11289</td>\n",
       "    </tr>\n",
       "    <tr>\n",
       "      <th>5</th>\n",
       "      <td>s</td>\n",
       "      <td>94</td>\n",
       "      <td>0.06279</td>\n",
       "    </tr>\n",
       "    <tr>\n",
       "      <th>6</th>\n",
       "      <td>i</td>\n",
       "      <td>129</td>\n",
       "      <td>0.08617</td>\n",
       "    </tr>\n",
       "    <tr>\n",
       "      <th>7</th>\n",
       "      <td>m</td>\n",
       "      <td>32</td>\n",
       "      <td>0.02138</td>\n",
       "    </tr>\n",
       "    <tr>\n",
       "      <th>8</th>\n",
       "      <td>p</td>\n",
       "      <td>38</td>\n",
       "      <td>0.02538</td>\n",
       "    </tr>\n",
       "    <tr>\n",
       "      <th>9</th>\n",
       "      <td>l</td>\n",
       "      <td>70</td>\n",
       "      <td>0.04676</td>\n",
       "    </tr>\n",
       "    <tr>\n",
       "      <th>10</th>\n",
       "      <td>n</td>\n",
       "      <td>85</td>\n",
       "      <td>0.05678</td>\n",
       "    </tr>\n",
       "    <tr>\n",
       "      <th>11</th>\n",
       "      <td>g</td>\n",
       "      <td>33</td>\n",
       "      <td>0.02204</td>\n",
       "    </tr>\n",
       "    <tr>\n",
       "      <th>12</th>\n",
       "      <td>w</td>\n",
       "      <td>29</td>\n",
       "      <td>0.01937</td>\n",
       "    </tr>\n",
       "    <tr>\n",
       "      <th>13</th>\n",
       "      <td>k</td>\n",
       "      <td>19</td>\n",
       "      <td>0.01269</td>\n",
       "    </tr>\n",
       "    <tr>\n",
       "      <th>14</th>\n",
       "      <td>d</td>\n",
       "      <td>54</td>\n",
       "      <td>0.03607</td>\n",
       "    </tr>\n",
       "    <tr>\n",
       "      <th>15</th>\n",
       "      <td>a</td>\n",
       "      <td>104</td>\n",
       "      <td>0.06947</td>\n",
       "    </tr>\n",
       "    <tr>\n",
       "      <th>16</th>\n",
       "      <td>u</td>\n",
       "      <td>22</td>\n",
       "      <td>0.01470</td>\n",
       "    </tr>\n",
       "    <tr>\n",
       "      <th>17</th>\n",
       "      <td>v</td>\n",
       "      <td>5</td>\n",
       "      <td>0.00334</td>\n",
       "    </tr>\n",
       "    <tr>\n",
       "      <th>18</th>\n",
       "      <td>r</td>\n",
       "      <td>64</td>\n",
       "      <td>0.04275</td>\n",
       "    </tr>\n",
       "    <tr>\n",
       "      <th>19</th>\n",
       "      <td>o</td>\n",
       "      <td>51</td>\n",
       "      <td>0.03407</td>\n",
       "    </tr>\n",
       "    <tr>\n",
       "      <th>20</th>\n",
       "      <td>f</td>\n",
       "      <td>11</td>\n",
       "      <td>0.00735</td>\n",
       "    </tr>\n",
       "    <tr>\n",
       "      <th>21</th>\n",
       "      <td>c</td>\n",
       "      <td>33</td>\n",
       "      <td>0.02204</td>\n",
       "    </tr>\n",
       "    <tr>\n",
       "      <th>22</th>\n",
       "      <td>y</td>\n",
       "      <td>15</td>\n",
       "      <td>0.01002</td>\n",
       "    </tr>\n",
       "    <tr>\n",
       "      <th>23</th>\n",
       "      <td>b</td>\n",
       "      <td>9</td>\n",
       "      <td>0.00601</td>\n",
       "    </tr>\n",
       "    <tr>\n",
       "      <th>24</th>\n",
       "      <td>1</td>\n",
       "      <td>5</td>\n",
       "      <td>0.00334</td>\n",
       "    </tr>\n",
       "    <tr>\n",
       "      <th>25</th>\n",
       "      <td>7</td>\n",
       "      <td>1</td>\n",
       "      <td>0.00067</td>\n",
       "    </tr>\n",
       "    <tr>\n",
       "      <th>26</th>\n",
       "      <td>2</td>\n",
       "      <td>6</td>\n",
       "      <td>0.00401</td>\n",
       "    </tr>\n",
       "    <tr>\n",
       "      <th>27</th>\n",
       "      <td>0</td>\n",
       "      <td>12</td>\n",
       "      <td>0.00802</td>\n",
       "    </tr>\n",
       "    <tr>\n",
       "      <th>28</th>\n",
       "      <td>3</td>\n",
       "      <td>2</td>\n",
       "      <td>0.00134</td>\n",
       "    </tr>\n",
       "    <tr>\n",
       "      <th>29</th>\n",
       "      <td>j</td>\n",
       "      <td>1</td>\n",
       "      <td>0.00067</td>\n",
       "    </tr>\n",
       "    <tr>\n",
       "      <th>30</th>\n",
       "      <td>x</td>\n",
       "      <td>2</td>\n",
       "      <td>0.00134</td>\n",
       "    </tr>\n",
       "    <tr>\n",
       "      <th>31</th>\n",
       "      <td>5</td>\n",
       "      <td>3</td>\n",
       "      <td>0.00200</td>\n",
       "    </tr>\n",
       "    <tr>\n",
       "      <th>32</th>\n",
       "      <td>8</td>\n",
       "      <td>1</td>\n",
       "      <td>0.00067</td>\n",
       "    </tr>\n",
       "    <tr>\n",
       "      <th>33</th>\n",
       "      <td>4</td>\n",
       "      <td>1</td>\n",
       "      <td>0.00067</td>\n",
       "    </tr>\n",
       "    <tr>\n",
       "      <th>34</th>\n",
       "      <td>9</td>\n",
       "      <td>1</td>\n",
       "      <td>0.00067</td>\n",
       "    </tr>\n",
       "    <tr>\n",
       "      <th>35</th>\n",
       "      <td>6</td>\n",
       "      <td>1</td>\n",
       "      <td>0.00067</td>\n",
       "    </tr>\n",
       "  </tbody>\n",
       "</table>\n",
       "</div>"
      ],
      "text/plain": [
       "   Term  Term freq  probability\n",
       "1   \" \"        242      0.16166\n",
       "2     t         85      0.05678\n",
       "3     h         68      0.04542\n",
       "4     e        169      0.11289\n",
       "5     s         94      0.06279\n",
       "6     i        129      0.08617\n",
       "7     m         32      0.02138\n",
       "8     p         38      0.02538\n",
       "9     l         70      0.04676\n",
       "10    n         85      0.05678\n",
       "11    g         33      0.02204\n",
       "12    w         29      0.01937\n",
       "13    k         19      0.01269\n",
       "14    d         54      0.03607\n",
       "15    a        104      0.06947\n",
       "16    u         22      0.01470\n",
       "17    v          5      0.00334\n",
       "18    r         64      0.04275\n",
       "19    o         51      0.03407\n",
       "20    f         11      0.00735\n",
       "21    c         33      0.02204\n",
       "22    y         15      0.01002\n",
       "23    b          9      0.00601\n",
       "24    1          5      0.00334\n",
       "25    7          1      0.00067\n",
       "26    2          6      0.00401\n",
       "27    0         12      0.00802\n",
       "28    3          2      0.00134\n",
       "29    j          1      0.00067\n",
       "30    x          2      0.00134\n",
       "31    5          3      0.00200\n",
       "32    8          1      0.00067\n",
       "33    4          1      0.00067\n",
       "34    9          1      0.00067\n",
       "35    6          1      0.00067"
      ]
     },
     "execution_count": 30,
     "metadata": {},
     "output_type": "execute_result"
    }
   ],
   "source": [
    "prob=[round(i,5) for i in prob]\n",
    "prob\n",
    "tab['probability']=prob\n",
    "tab"
   ]
  },
  {
   "cell_type": "code",
   "execution_count": 97,
   "id": "5026d0ad",
   "metadata": {},
   "outputs": [
    {
     "data": {
      "text/plain": [
       "array([0.16166, 0.05678, 0.04542, 0.11289, 0.06279, 0.08617, 0.02138,\n",
       "       0.02538, 0.04676, 0.05678, 0.02204, 0.01937, 0.01269, 0.03607,\n",
       "       0.06947, 0.0147, 0.00334, 0.04275, 0.03407, 0.00735, 0.02204,\n",
       "       0.01002, 0.00601, 0.00334, 0.00067, 0.00401, 0.00802, 0.00134,\n",
       "       0.00067, 0.00134, 0.002, 0.00067, 0.00067, 0.00067, 0.00067],\n",
       "      dtype=object)"
      ]
     },
     "execution_count": 97,
     "metadata": {},
     "output_type": "execute_result"
    }
   ],
   "source": [
    "df= tab.copy()\n",
    "df=df[['Term','probability']]\n",
    "pro=df.to_numpy()\n"
   ]
  },
  {
   "cell_type": "code",
   "execution_count": null,
   "id": "cc0797d0",
   "metadata": {},
   "outputs": [],
   "source": [
    "word=0\n",
    "char=\"\"\n",
    "f = open('generated.text',\"w+\") \n",
    "while word<5000:\n",
    "    genchar = np.random.choice(pro[:,0],p=pro[:,1].astype(float))\n",
    "    f.write(genchar)\n",
    "    char=genchar\n",
    "    if (genchar ==\" \"):\n",
    "            word+=1\n",
    "f.close()    "
   ]
  },
  {
   "cell_type": "code",
   "execution_count": null,
   "id": "ea08f24c",
   "metadata": {},
   "outputs": [],
   "source": []
  },
  {
   "cell_type": "code",
   "execution_count": null,
   "id": "7b48608e",
   "metadata": {},
   "outputs": [],
   "source": []
  }
 ],
 "metadata": {
  "kernelspec": {
   "display_name": "Python 3 (ipykernel)",
   "language": "python",
   "name": "python3"
  },
  "language_info": {
   "codemirror_mode": {
    "name": "ipython",
    "version": 3
   },
   "file_extension": ".py",
   "mimetype": "text/x-python",
   "name": "python",
   "nbconvert_exporter": "python",
   "pygments_lexer": "ipython3",
   "version": "3.9.7"
  }
 },
 "nbformat": 4,
 "nbformat_minor": 5
}
