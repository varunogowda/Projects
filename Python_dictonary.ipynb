{
 "cells": [
  {
   "cell_type": "code",
   "execution_count": 1,
   "id": "d9b753ed",
   "metadata": {},
   "outputs": [
    {
     "name": "stdout",
     "output_type": "stream",
     "text": [
      "{'scheme': 'http', 'hostname': 'www.google.uk:8080', 'Domain': 'www.google.uk', 'portnumber': ':8080', 'path': 'path/to/myfile.html?key1=value1&key2=value2#'}\n",
      "None\n",
      "{'scheme': 'https', 'hostname': 'olat.vcrp.de', 'Domain': 'olat.vcrp.de', 'portnumber': None, 'path': '/auth/RepositoryEntry/3872260900/CourseNode/106434573746123', 'port': ' '}\n",
      "None\n"
     ]
    }
   ],
   "source": [
    "def urlparser(url):\n",
    "    const={'scheme':None,'hostname':None, 'Domain': None, 'portnumber':None,'path':None}\n",
    "    if '//' in url:\n",
    "        ref=url.split('//')\n",
    "        if len(ref)>1:\n",
    "            scheme=ref[0]\n",
    "            scheme=scheme.strip(':')\n",
    "            const['scheme']=scheme\n",
    "            url=ref[1]\n",
    "    else:\n",
    "        const['scheme']=' '\n",
    "\n",
    "      \n",
    "    if '/' in url:\n",
    "        ref=url.split('/',1)\n",
    "        hostname=ref[0]\n",
    "        (\"hostname = \",hostname)\n",
    "        const['hostname']=hostname\n",
    "        url=ref[1]\n",
    "        \n",
    "    \n",
    "    else:\n",
    "        hostname=url\n",
    "        const['hostname']=hostname\n",
    "        \n",
    "    \n",
    "    hostname=hostname.split(\":\")\n",
    "    #print(hostname)\n",
    "    \n",
    "    if len(hostname)>1:\n",
    "        Domain = hostname[0]\n",
    "        portnumber = hostname[1]\n",
    "        path =ref[1]\n",
    "        const['Domain']= Domain\n",
    "        const['portnumber']= ':' + portnumber\n",
    "        const['path']= path\n",
    "    else:\n",
    "        const['Domain']=hostname[0]\n",
    "        const['port']=' '\n",
    "        const['path']='/'+ ref[1]\n",
    "        \n",
    "    \n",
    "    \n",
    "    print(const)\n",
    "url1 = \"http://www.google.uk:8080/path/to/myfile.html?key1=value1&key2=value2#\"\n",
    "url2 = \"https://olat.vcrp.de/auth/RepositoryEntry/3872260900/CourseNode/106434573746123\"\n",
    "print(urlparser(url1))\n",
    "print(urlparser(url2))"
   ]
  },
  {
   "cell_type": "markdown",
   "id": "e3967a51",
   "metadata": {},
   "source": [
    "# Client"
   ]
  },
  {
   "cell_type": "code",
   "execution_count": 2,
   "id": "89949f22",
   "metadata": {},
   "outputs": [
    {
     "name": "stdout",
     "output_type": "stream",
     "text": [
      "{\"scheme\": \"http\", \"hostname\": \"www.google.uk:8080\", \"Domain\": \"www.google.uk\", \"portnumber\": \":8080\", \"path\": \"path/to/myfile.html?key1=value1&key2=value2#\"}\n"
     ]
    }
   ],
   "source": [
    "import json\n",
    "const={'scheme': 'http', 'hostname': 'www.google.uk:8080', 'Domain': 'www.google.uk', 'portnumber': ':8080', 'path': 'path/to/myfile.html?key1=value1&key2=value2#'}\n",
    "client = json.dumps(const)\n",
    "print(client)"
   ]
  },
  {
   "cell_type": "markdown",
   "id": "64e5b178",
   "metadata": {},
   "source": [
    "# Server\n"
   ]
  },
  {
   "cell_type": "code",
   "execution_count": 7,
   "id": "5ce05569",
   "metadata": {},
   "outputs": [
    {
     "name": "stdout",
     "output_type": "stream",
     "text": [
      "{'scheme': 'http', 'hostname': 'www.google.uk:8080', 'Domain': 'www.google.uk', 'portnumber': ':8080', 'path': 'path/to/myfile.html?key1=value1&key2=value2#'}\n",
      "<class 'dict'>\n",
      "http://www.google.uk:8080/path/to/myfile.html?key1=value1&key2=value2#\n"
     ]
    }
   ],
   "source": [
    "client_url = json.loads(client)\n",
    "print(client_url)\n",
    "print(type(client_url))\n",
    "server = []\n",
    "#server = list(client_url.values())\n",
    "#print(server)\n",
    "for i in client_url.values():\n",
    "    server.append(i)\n",
    "server_url = (server[0]+'://'+server[1]+'/'+server[4])\n",
    "print(server_url)"
   ]
  },
  {
   "cell_type": "code",
   "execution_count": null,
   "id": "58ee5cdb",
   "metadata": {},
   "outputs": [],
   "source": []
  }
 ],
 "metadata": {
  "kernelspec": {
   "display_name": "Python 3 (ipykernel)",
   "language": "python",
   "name": "python3"
  },
  "language_info": {
   "codemirror_mode": {
    "name": "ipython",
    "version": 3
   },
   "file_extension": ".py",
   "mimetype": "text/x-python",
   "name": "python",
   "nbconvert_exporter": "python",
   "pygments_lexer": "ipython3",
   "version": "3.9.7"
  }
 },
 "nbformat": 4,
 "nbformat_minor": 5
}
