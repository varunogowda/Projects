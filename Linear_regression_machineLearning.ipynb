{
 "cells": [
  {
   "cell_type": "markdown",
   "id": "cbd365fe",
   "metadata": {},
   "source": [
    "# Reading the train.csv file from directory"
   ]
  },
  {
   "cell_type": "code",
   "execution_count": 37,
   "id": "73295a86",
   "metadata": {},
   "outputs": [],
   "source": [
    "import pandas as pd\n",
    "import numpy as np"
   ]
  },
  {
   "cell_type": "code",
   "execution_count": 38,
   "id": "6cc13a00",
   "metadata": {},
   "outputs": [],
   "source": [
    "df=pd.read_csv('/Users/varun/Desktop/MAchine learning/Assignments/Assignment_8/train.csv')"
   ]
  },
  {
   "cell_type": "code",
   "execution_count": 39,
   "id": "6a3f2ff1",
   "metadata": {},
   "outputs": [
    {
     "data": {
      "text/plain": [
       "(700, 2)"
      ]
     },
     "execution_count": 39,
     "metadata": {},
     "output_type": "execute_result"
    }
   ],
   "source": [
    "df.shape"
   ]
  },
  {
   "cell_type": "markdown",
   "id": "7b96eb6f",
   "metadata": {},
   "source": [
    "# PreProcessing (removing all null value rows)"
   ]
  },
  {
   "cell_type": "code",
   "execution_count": 40,
   "id": "ed1648aa",
   "metadata": {},
   "outputs": [
    {
     "data": {
      "text/plain": [
       "(699, 2)"
      ]
     },
     "execution_count": 40,
     "metadata": {},
     "output_type": "execute_result"
    }
   ],
   "source": [
    "df=df.dropna()\n",
    "df.shape"
   ]
  },
  {
   "cell_type": "markdown",
   "id": "574c3d25",
   "metadata": {},
   "source": [
    "# We know the formula y=mx+c\n",
    "lets calculate slope(m) and c"
   ]
  },
  {
   "cell_type": "code",
   "execution_count": 41,
   "id": "ad20a25c",
   "metadata": {},
   "outputs": [
    {
     "data": {
      "text/plain": [
       "Index(['x', 'y'], dtype='object')"
      ]
     },
     "execution_count": 41,
     "metadata": {},
     "output_type": "execute_result"
    }
   ],
   "source": [
    "df.columns"
   ]
  },
  {
   "cell_type": "code",
   "execution_count": 42,
   "id": "5c50b53e",
   "metadata": {},
   "outputs": [],
   "source": [
    "x=df['x'].values\n",
    "y=df['y'].values"
   ]
  },
  {
   "cell_type": "code",
   "execution_count": 43,
   "id": "564067e9",
   "metadata": {},
   "outputs": [
    {
     "name": "stdout",
     "output_type": "stream",
     "text": [
      "slope= 1.0006563818563043\n",
      "intercept(c)= -0.10726546430096622\n"
     ]
    }
   ],
   "source": [
    "m=np.polyfit(x,y,1)[0]\n",
    "c=np.polyfit(x,y,1)[1]\n",
    "print('slope=',m)\n",
    "print('intercept(c)=',c)"
   ]
  },
  {
   "cell_type": "markdown",
   "id": "fee49a09",
   "metadata": {},
   "source": [
    "# Let's predict the test.csv values"
   ]
  },
  {
   "cell_type": "code",
   "execution_count": 44,
   "id": "f6f7e0ed",
   "metadata": {},
   "outputs": [],
   "source": [
    "rf=pd.read_csv('/Users/varun/Desktop/MAchine learning/Assignments/Assignment_8/test.csv')"
   ]
  },
  {
   "cell_type": "code",
   "execution_count": 50,
   "id": "c64de2cd",
   "metadata": {},
   "outputs": [
    {
     "data": {
      "text/plain": [
       "300"
      ]
     },
     "execution_count": 50,
     "metadata": {},
     "output_type": "execute_result"
    }
   ],
   "source": [
    "rf.head(5)\n",
    "test_x= rf['x'].values\n",
    "len(test_x)"
   ]
  },
  {
   "cell_type": "markdown",
   "id": "cfe1c677",
   "metadata": {},
   "source": [
    "# Let's predict value y for each x using m, c\n",
    "\n",
    "y= mx+c"
   ]
  },
  {
   "cell_type": "code",
   "execution_count": 61,
   "id": "e7c132cc",
   "metadata": {},
   "outputs": [
    {
     "name": "stdout",
     "output_type": "stream",
     "text": [
      "nullValues for 1st coulmn:  False\n",
      "nullValues for 2nd column:  False\n"
     ]
    }
   ],
   "source": [
    "print('nullValues for 1st coulmn: ',rf['x'].isnull().values.any()) #checking any Null values.\n",
    "print('nullValues for 2nd column: ',rf['y'].isnull().values.any()) #checking any Null values."
   ]
  },
  {
   "cell_type": "code",
   "execution_count": 63,
   "id": "0af4b32a",
   "metadata": {},
   "outputs": [
    {
     "data": {
      "text/html": [
       "<div>\n",
       "<style scoped>\n",
       "    .dataframe tbody tr th:only-of-type {\n",
       "        vertical-align: middle;\n",
       "    }\n",
       "\n",
       "    .dataframe tbody tr th {\n",
       "        vertical-align: top;\n",
       "    }\n",
       "\n",
       "    .dataframe thead th {\n",
       "        text-align: right;\n",
       "    }\n",
       "</style>\n",
       "<table border=\"1\" class=\"dataframe\">\n",
       "  <thead>\n",
       "    <tr style=\"text-align: right;\">\n",
       "      <th></th>\n",
       "      <th>x</th>\n",
       "      <th>y</th>\n",
       "      <th>Predicted_y</th>\n",
       "    </tr>\n",
       "  </thead>\n",
       "  <tbody>\n",
       "    <tr>\n",
       "      <th>0</th>\n",
       "      <td>77</td>\n",
       "      <td>79.775152</td>\n",
       "      <td>76.943276</td>\n",
       "    </tr>\n",
       "    <tr>\n",
       "      <th>1</th>\n",
       "      <td>21</td>\n",
       "      <td>23.177279</td>\n",
       "      <td>20.906519</td>\n",
       "    </tr>\n",
       "  </tbody>\n",
       "</table>\n",
       "</div>"
      ],
      "text/plain": [
       "    x          y  Predicted_y\n",
       "0  77  79.775152    76.943276\n",
       "1  21  23.177279    20.906519"
      ]
     },
     "execution_count": 63,
     "metadata": {},
     "output_type": "execute_result"
    }
   ],
   "source": [
    "pred_y=[]\n",
    "for i in range(len(test_x)):\n",
    "    pred_y.append((test_x[i]*m)+c)\n",
    "rf['Predicted_y']=pred_y\n",
    "rf.head(2)"
   ]
  },
  {
   "cell_type": "markdown",
   "id": "a94f62c6",
   "metadata": {},
   "source": [
    "# evaluate the model performance by using RMSE(root mean square as the metric)"
   ]
  },
  {
   "cell_type": "code",
   "execution_count": 65,
   "id": "944ffb9f",
   "metadata": {},
   "outputs": [],
   "source": [
    "actual_y=rf['y'].values #actual given y values\n",
    "pred_y=pred_y # predicted value of y"
   ]
  },
  {
   "cell_type": "code",
   "execution_count": 67,
   "id": "1425e0be",
   "metadata": {},
   "outputs": [],
   "source": [
    "import math\n",
    "import numpy as np"
   ]
  },
  {
   "cell_type": "code",
   "execution_count": 70,
   "id": "6a2ecb6d",
   "metadata": {},
   "outputs": [
    {
     "name": "stdout",
     "output_type": "stream",
     "text": [
      "root mean sqaure error: 3.071306268029822\n"
     ]
    }
   ],
   "source": [
    "MSE=np.square(np.subtract(actual_y,pred_y)).mean()\n",
    "RSME=math.sqrt(MSE)\n",
    "print('root mean sqaure error:',RSME)"
   ]
  },
  {
   "cell_type": "code",
   "execution_count": null,
   "id": "f2fbc00e",
   "metadata": {},
   "outputs": [],
   "source": []
  }
 ],
 "metadata": {
  "kernelspec": {
   "display_name": "Python 3 (ipykernel)",
   "language": "python",
   "name": "python3"
  },
  "language_info": {
   "codemirror_mode": {
    "name": "ipython",
    "version": 3
   },
   "file_extension": ".py",
   "mimetype": "text/x-python",
   "name": "python",
   "nbconvert_exporter": "python",
   "pygments_lexer": "ipython3",
   "version": "3.9.7"
  }
 },
 "nbformat": 4,
 "nbformat_minor": 5
}
