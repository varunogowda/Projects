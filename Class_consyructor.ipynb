{
 "cells": [
  {
   "cell_type": "code",
   "execution_count": 27,
   "id": "70e90544",
   "metadata": {},
   "outputs": [
    {
     "name": "stdout",
     "output_type": "stream",
     "text": [
      "Vasist\n",
      "2023-01-01\n"
     ]
    },
    {
     "data": {
      "text/plain": [
       "27"
      ]
     },
     "execution_count": 27,
     "metadata": {},
     "output_type": "execute_result"
    }
   ],
   "source": [
    "from datetime import date\n",
    "class User:\n",
    "    def __init__(self, firstname, dateOfBirth):\n",
    "        self.firstname='varun'\n",
    "        self.dateOfBirth=date(1995,9,22)\n",
    "\n",
    "    def set_firstname(self):\n",
    "        self.firstname='Vasist'\n",
    "        \n",
    "    def get_firstname(self):\n",
    "        return self.firstname\n",
    "    \n",
    "    def getAge(self):\n",
    "        today = date.today()\n",
    "        print(today)\n",
    "        return today.year - self.dateOfBirth.year - ((today.month, today.day) < (self.dateOfBirth.month, self.dateOfBirth.day))\n",
    "\n",
    "obj1=User('firstname','dateOfBirth')\n",
    "obj1.set_firstname()\n",
    "print(obj1.get_firstname())\n",
    "obj1.getAge()\n"
   ]
  },
  {
   "cell_type": "code",
   "execution_count": null,
   "id": "82a8d1db",
   "metadata": {},
   "outputs": [],
   "source": []
  }
 ],
 "metadata": {
  "kernelspec": {
   "display_name": "Python 3 (ipykernel)",
   "language": "python",
   "name": "python3"
  },
  "language_info": {
   "codemirror_mode": {
    "name": "ipython",
    "version": 3
   },
   "file_extension": ".py",
   "mimetype": "text/x-python",
   "name": "python",
   "nbconvert_exporter": "python",
   "pygments_lexer": "ipython3",
   "version": "3.9.7"
  }
 },
 "nbformat": 4,
 "nbformat_minor": 5
}
