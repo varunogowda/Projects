{
 "cells": [
  {
   "cell_type": "code",
   "execution_count": 1,
   "id": "a097e035",
   "metadata": {},
   "outputs": [],
   "source": [
    "import pandas as pd"
   ]
  },
  {
   "cell_type": "code",
   "execution_count": 2,
   "id": "8b7fa0ac",
   "metadata": {},
   "outputs": [],
   "source": [
    "def mean(sample):\n",
    "    return sum(sample)/len(sample)\n"
   ]
  },
  {
   "cell_type": "code",
   "execution_count": 4,
   "id": "b8e6a9d3",
   "metadata": {},
   "outputs": [
    {
     "data": {
      "text/plain": [
       "26.666666666666668"
      ]
     },
     "execution_count": 4,
     "metadata": {},
     "output_type": "execute_result"
    }
   ],
   "source": [
    "mean([81,6,30,48,48,3,31,4,26,28,14,1])"
   ]
  },
  {
   "cell_type": "code",
   "execution_count": 7,
   "id": "3952f707",
   "metadata": {},
   "outputs": [],
   "source": [
    "import statistics as st"
   ]
  },
  {
   "cell_type": "code",
   "execution_count": 15,
   "id": "e81161c7",
   "metadata": {},
   "outputs": [
    {
     "data": {
      "text/plain": [
       "27.0"
      ]
     },
     "execution_count": 15,
     "metadata": {},
     "output_type": "execute_result"
    }
   ],
   "source": [
    "st.median([23,1,33,23,48,53,30,24,39,1])"
   ]
  },
  {
   "cell_type": "code",
   "execution_count": 10,
   "id": "1bc307fe",
   "metadata": {
    "scrolled": true
   },
   "outputs": [
    {
     "data": {
      "text/plain": [
       "26.666666666666668"
      ]
     },
     "execution_count": 10,
     "metadata": {},
     "output_type": "execute_result"
    }
   ],
   "source": [
    "st.mean([81,6,30,48,48,3,31,4,26,28,14,1])"
   ]
  },
  {
   "cell_type": "code",
   "execution_count": 18,
   "id": "d5f542d0",
   "metadata": {},
   "outputs": [
    {
     "data": {
      "text/plain": [
       "137"
      ]
     },
     "execution_count": 18,
     "metadata": {},
     "output_type": "execute_result"
    }
   ],
   "source": [
    "st.mode([120,123,130,48,248,137,137,94,126,98,64,137])"
   ]
  },
  {
   "cell_type": "code",
   "execution_count": 22,
   "id": "229b713b",
   "metadata": {},
   "outputs": [
    {
     "data": {
      "text/plain": [
       "635.1515151515151"
      ]
     },
     "execution_count": 22,
     "metadata": {},
     "output_type": "execute_result"
    }
   ],
   "source": [
    "st.variance([12,13,30,48,47,73,31,94,26,18,24,20])"
   ]
  },
  {
   "cell_type": "code",
   "execution_count": 23,
   "id": "79e960c4",
   "metadata": {},
   "outputs": [
    {
     "data": {
      "text/plain": [
       "8.396265403575136"
      ]
     },
     "execution_count": 23,
     "metadata": {},
     "output_type": "execute_result"
    }
   ],
   "source": [
    "st.stdev([22,31,21,4,17,17,31,34,21,12.5,24.7,21])"
   ]
  },
  {
   "cell_type": "code",
   "execution_count": 24,
   "id": "6893d871",
   "metadata": {},
   "outputs": [
    {
     "data": {
      "text/plain": [
       "36.333333333333336"
      ]
     },
     "execution_count": 24,
     "metadata": {},
     "output_type": "execute_result"
    }
   ],
   "source": [
    "def mean(sample):\n",
    "    return sum(sample)/len(sample)\n",
    "mean([12,13,30,48,47,73,31,94,26,18,24,20])"
   ]
  },
  {
   "cell_type": "code",
   "execution_count": 113,
   "id": "9c91dcda",
   "metadata": {},
   "outputs": [
    {
     "name": "stdout",
     "output_type": "stream",
     "text": [
      "36.333333333333336\n",
      "582.2222222222222\n",
      "8.038812101299543\n"
     ]
    }
   ],
   "source": [
    "import numpy as np\n",
    "list= [12,13,30,48,47,73,31,94,26,18,24,20]\n",
    "list1=[22,31,21,4,17,17,31,34,21,12.5,24.7,21]\n",
    "print(np.mean(list))\n",
    "print(np.var(list))\n",
    "print(np.std(list1))"
   ]
  },
  {
   "cell_type": "code",
   "execution_count": 72,
   "id": "7a9af61f",
   "metadata": {},
   "outputs": [
    {
     "name": "stdout",
     "output_type": "stream",
     "text": [
      "Varun\n",
      "None\n",
      "Varun\n",
      "24\n"
     ]
    }
   ],
   "source": [
    "import datetime\n",
    "class User:\n",
    "    \n",
    "    def __init__(self,firstname,dateOfBirth):\n",
    "        self.firstname=firstname\n",
    "        self.dateOfBirth=dateOfBirth\n",
    "    def setFirstname(self):\n",
    "        self.firstname = \"Varun\"\n",
    "        print(self.firstname)\n",
    "    def getFirstname(self):\n",
    "        return self.firstname\n",
    "    def getAge(self):\n",
    "        today = datetime.date.today()\n",
    "        age = today.year - self.dateOfBirth.year\n",
    "        if today < datetime.date(today.year, self.dateOfBirth.month, self.dateOfBirth.day):\n",
    "            age-=1\n",
    "        return age\n",
    "    \n",
    "user = User(\"Abc\",datetime.date(1997,11,4)) #year,month,day\n",
    "print(user.setFirstname())\n",
    "print(user.getFirstname())\n",
    "print(user.getAge())"
   ]
  },
  {
   "cell_type": "code",
   "execution_count": 74,
   "id": "5641fd59",
   "metadata": {},
   "outputs": [
    {
     "name": "stdout",
     "output_type": "stream",
     "text": [
      "     Name  y_original    Address\n",
      "0     Jai          10      Delhi\n",
      "1  Princi          62  Bangalore\n",
      "2  Gaurav          64    Chennai\n",
      "3    Anuj          81      Patna\n"
     ]
    }
   ],
   "source": [
    "import pandas as pd\n",
    "  \n",
    "# Define a dictionary containing Students data\n",
    "data = {'Name': ['Jai', 'Princi', 'Gaurav', 'Anuj'],\n",
    "        'y_original': [10,62,64,81]}\n",
    "  \n",
    "# Convert the dictionary into DataFrame\n",
    "df = pd.DataFrame(data)\n",
    "  \n",
    "# Declare a list that is to be converted into a column\n",
    "address = ['Delhi', 'Bangalore', 'Chennai', 'Patna']\n",
    "  \n",
    "# Using 'Address' as the column name\n",
    "# and equating it to the list\n",
    "df['sqrt'] = address\n",
    "  \n",
    "# Observe the result\n",
    "print(df)"
   ]
  },
  {
   "cell_type": "code",
   "execution_count": 81,
   "id": "40933cf3",
   "metadata": {},
   "outputs": [
    {
     "data": {
      "text/html": [
       "<div>\n",
       "<style scoped>\n",
       "    .dataframe tbody tr th:only-of-type {\n",
       "        vertical-align: middle;\n",
       "    }\n",
       "\n",
       "    .dataframe tbody tr th {\n",
       "        vertical-align: top;\n",
       "    }\n",
       "\n",
       "    .dataframe thead th {\n",
       "        text-align: right;\n",
       "    }\n",
       "</style>\n",
       "<table border=\"1\" class=\"dataframe\">\n",
       "  <thead>\n",
       "    <tr style=\"text-align: right;\">\n",
       "      <th></th>\n",
       "      <th>y_original</th>\n",
       "      <th>y_predicted</th>\n",
       "      <th>sqrt(y)</th>\n",
       "    </tr>\n",
       "  </thead>\n",
       "  <tbody>\n",
       "    <tr>\n",
       "      <th>0</th>\n",
       "      <td>3.888889</td>\n",
       "      <td>5.717660</td>\n",
       "      <td>1.972027</td>\n",
       "    </tr>\n",
       "    <tr>\n",
       "      <th>1</th>\n",
       "      <td>4.555556</td>\n",
       "      <td>6.365723</td>\n",
       "      <td>2.134375</td>\n",
       "    </tr>\n",
       "    <tr>\n",
       "      <th>2</th>\n",
       "      <td>5.222222</td>\n",
       "      <td>7.013786</td>\n",
       "      <td>2.285218</td>\n",
       "    </tr>\n",
       "    <tr>\n",
       "      <th>3</th>\n",
       "      <td>5.888889</td>\n",
       "      <td>7.661848</td>\n",
       "      <td>2.426703</td>\n",
       "    </tr>\n",
       "    <tr>\n",
       "      <th>4</th>\n",
       "      <td>6.555556</td>\n",
       "      <td>8.309911</td>\n",
       "      <td>2.560382</td>\n",
       "    </tr>\n",
       "  </tbody>\n",
       "</table>\n",
       "</div>"
      ],
      "text/plain": [
       "   y_original  y_predicted   sqrt(y)\n",
       "0    3.888889     5.717660  1.972027\n",
       "1    4.555556     6.365723  2.134375\n",
       "2    5.222222     7.013786  2.285218\n",
       "3    5.888889     7.661848  2.426703\n",
       "4    6.555556     8.309911  2.560382"
      ]
     },
     "execution_count": 81,
     "metadata": {},
     "output_type": "execute_result"
    }
   ],
   "source": [
    "import pandas as pd\n",
    "import numpy as np\n",
    "df= pd.read_csv(\"/Users/varun/Downloads/data.csv\")\n",
    "df['sqrt(y)']= np.sqrt(df['y_original'])\n",
    "df.head(5)"
   ]
  },
  {
   "cell_type": "code",
   "execution_count": 79,
   "id": "0c09fadf",
   "metadata": {},
   "outputs": [],
   "source": [
    "df['sqrt(y)']= np.sqrt(df['y_original'])"
   ]
  },
  {
   "cell_type": "code",
   "execution_count": 82,
   "id": "5311e6cd",
   "metadata": {},
   "outputs": [
    {
     "name": "stdout",
     "output_type": "stream",
     "text": [
      "     y_original  y_predicted    sqrt(y)\n",
      "0      3.888889     5.717660   1.972027\n",
      "1      4.555556     6.365723   2.134375\n",
      "2      5.222222     7.013786   2.285218\n",
      "3      5.888889     7.661848   2.426703\n",
      "4      6.555556     8.309911   2.560382\n",
      "..          ...          ...        ...\n",
      "295  200.555556   196.896143  14.161764\n",
      "296  201.222222   197.544205  14.185282\n",
      "297  201.888889   198.192268  14.208761\n",
      "298    1.888889   198.840331   1.374369\n",
      "299    1.888889   199.488393   1.374369\n",
      "\n",
      "[300 rows x 3 columns]\n"
     ]
    }
   ],
   "source": [
    "print(df)"
   ]
  },
  {
   "cell_type": "code",
   "execution_count": 112,
   "id": "38e57d01",
   "metadata": {},
   "outputs": [
    {
     "data": {
      "text/plain": [
       "United States of America      615\n",
       "Japan                         586\n",
       "Australia                     470\n",
       "People's Republic of China    401\n",
       "Germany                       400\n",
       "France                        377\n",
       "Canada                        368\n",
       "Great Britain                 366\n",
       "Italy                         356\n",
       "Spain                         324\n",
       "ROC                           318\n",
       "Brazil                        291\n",
       "Netherlands                   274\n",
       "Republic of Korea             223\n",
       "New Zealand                   202\n",
       "Poland                        195\n",
       "Argentina                     180\n",
       "South Africa                  171\n",
       "Mexico                        155\n",
       "Hungary                       155\n",
       "Ukraine                       152\n",
       "Egypt                         133\n",
       "Sweden                        129\n",
       "Belgium                       125\n",
       "India                         117\n",
       "Czech Republic                117\n",
       "Ireland                       116\n",
       "Switzerland                   115\n",
       "Belarus                       104\n",
       "Denmark                       103\n",
       "Turkey                        102\n",
       "Romania                        99\n",
       "Norway                         92\n",
       "Kazakhstan                     92\n",
       "Israel                         85\n",
       "Portugal                       85\n",
       "Serbia                         83\n",
       "Kenya                          78\n",
       "Greece                         75\n",
       "Austria                        72\n",
       "Cuba                           69\n",
       "Chinese Taipei                 67\n",
       "Islamic Republic of Iran       66\n",
       "Colombia                       64\n",
       "Uzbekistan                     63\n",
       "Dominican Republic             61\n",
       "Jamaica                        60\n",
       "Nigeria                        59\n",
       "Tunisia                        57\n",
       "Croatia                        57\n",
       "Name: NOC, dtype: int64"
      ]
     },
     "execution_count": 112,
     "metadata": {},
     "output_type": "execute_result"
    }
   ],
   "source": [
    "import pandas as pd\n",
    "import numpy as np\n",
    "import matplotlib as plt\n",
    "df= pd.read_csv(\"/Users/varun/Downloads/visualization.csv\")\n",
    "counts=df['NOC'].value_counts()\n",
    "counts.head(50)\n"
   ]
  },
  {
   "cell_type": "code",
   "execution_count": null,
   "id": "c82fc629",
   "metadata": {},
   "outputs": [],
   "source": []
  }
 ],
 "metadata": {
  "kernelspec": {
   "display_name": "Python 3 (ipykernel)",
   "language": "python",
   "name": "python3"
  },
  "language_info": {
   "codemirror_mode": {
    "name": "ipython",
    "version": 3
   },
   "file_extension": ".py",
   "mimetype": "text/x-python",
   "name": "python",
   "nbconvert_exporter": "python",
   "pygments_lexer": "ipython3",
   "version": "3.9.7"
  }
 },
 "nbformat": 4,
 "nbformat_minor": 5
}
